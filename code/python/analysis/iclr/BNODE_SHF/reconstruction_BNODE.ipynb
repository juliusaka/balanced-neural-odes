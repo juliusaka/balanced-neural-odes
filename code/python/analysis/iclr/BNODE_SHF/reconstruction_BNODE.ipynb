{
 "cells": [
  {
   "cell_type": "code",
   "execution_count": 1,
   "metadata": {},
   "outputs": [],
   "source": [
    "%load_ext autoreload\n",
    "%autoreload 2\n",
    "import pandas as pd\n",
    "import numpy as np\n",
    "import h5py\n",
    "from pathlib import Path\n",
    "import os\n",
    "import sys\n",
    "sys.path.append(os.getcwd() + '/../..')\n",
    "sys.path.append(os.getcwd() + '/..')\n",
    "from filepaths import filepath_from_ml_artifacts_uri\n",
    "from analysis.iclr.plotting import settings, fig_size, cb_line_cycler, cb_line_cycler_solid, cb_marker_cycler, savefig\n",
    "from plot_hdf5_dataset import plot_dataset\n",
    "from iclr_paper_path import get_paper_path\n",
    "import matplotlib\n",
    "settings()\n",
    "import matplotlib.pyplot as plt\n",
    "\n",
    "path_dataset = filepath_from_ml_artifacts_uri('mlflow-artifacts:/829789035554334690/2ca1dc3ab4ca4fda96dc072fea11451f/artifacts/dataset.hdf5')"
   ]
  },
  {
   "cell_type": "code",
   "execution_count": 2,
   "metadata": {},
   "outputs": [
    {
     "name": "stdout",
     "output_type": "stream",
     "text": [
      "<KeysViewHDF5 ['common_test', 'common_validation', 'controls_names', 'outputs_names', 'parameters_names', 'states_der_names', 'states_names', 'test', 'time', 'train', 'validation']>\n"
     ]
    }
   ],
   "source": [
    "dataset = h5py.File(path_dataset, 'r')\n",
    "print(dataset.keys())"
   ]
  },
  {
   "cell_type": "code",
   "execution_count": 3,
   "metadata": {},
   "outputs": [
    {
     "data": {
      "text/plain": [
       "<KeysViewHDF5 ['controls', 'kl_lat_controls', 'kl_lat_controls_per_dim', 'kl_lat_parameters', 'kl_lat_state_0', 'kl_lat_state_0_per_dim', 'kl_lat_states', 'kl_lat_states_per_dim', 'kl_loss', 'lat_controls_logvar', 'lat_controls_mu', 'lat_dim_controls_populated', 'lat_dim_parameters_populated', 'lat_dim_state_0_populated', 'lat_dim_states_populated', 'lat_state_0_logvar', 'lat_state_0_mu', 'lat_states_mu', 'loss', 'ode_calls_forward', 'outputs', 'outputs_hat', 'parameters', 'reconstruction_loss', 'reconstruction_loss_outputs', 'reconstruction_loss_state_0', 'reconstruction_loss_states', 'rmse_outputs', 'rmse_state_0', 'rmse_states', 'states', 'states_der', 'states_hat', 'time_odeint', 'time_outputs']>"
      ]
     },
     "execution_count": 3,
     "metadata": {},
     "output_type": "execute_result"
    }
   ],
   "source": [
    "dataset['common_test'].keys()"
   ]
  },
  {
   "cell_type": "code",
   "execution_count": 4,
   "metadata": {},
   "outputs": [],
   "source": [
    "dataset_type = 'common_test'\n",
    "kl_lat_state_0_per_dim = dataset[dataset_type]['kl_lat_state_0_per_dim'][:]\n",
    "lat_states_mu = dataset[dataset_type]['lat_states_mu'][:]\n",
    "kl_lat_states = dataset[dataset_type]['kl_lat_states_per_dim'][:]\n",
    "states = dataset[dataset_type]['states'][:]\n",
    "states_hat = dataset[dataset_type]['states_hat'][:]\n",
    "time = dataset['time'][:]"
   ]
  },
  {
   "cell_type": "code",
   "execution_count": 5,
   "metadata": {},
   "outputs": [
    {
     "name": "stdout",
     "output_type": "stream",
     "text": [
      "246\n"
     ]
    }
   ],
   "source": [
    "n_samples = kl_lat_state_0_per_dim.shape[0]\n",
    "print(n_samples)"
   ]
  },
  {
   "cell_type": "code",
   "execution_count": 6,
   "metadata": {},
   "outputs": [
    {
     "name": "stdout",
     "output_type": "stream",
     "text": [
      "0.0043077055188780085\n",
      "0.07288027666136565\n"
     ]
    }
   ],
   "source": [
    "# calculate error normalized by mean\n",
    "error = np.abs(states - states_hat)\n",
    "mean_per_dim = np.mean(states, axis=(0,2))\n",
    "# mean_per_dim = np.std(states, axis=(0,2))\n",
    "error_normalized = np.divide(error, np.expand_dims(mean_per_dim, axis=(0,2)))\n",
    "# error_normalized = error_normalized[0]\n",
    "rmse_total_normalized = np.sqrt(np.mean(error_normalized**2))\n",
    "max_error_normalized = np.max(error_normalized)\n",
    "print(rmse_total_normalized)\n",
    "print(max_error_normalized)"
   ]
  },
  {
   "cell_type": "code",
   "execution_count": 7,
   "metadata": {},
   "outputs": [
    {
     "data": {
      "text/plain": [
       "array([0.00843493, 0.01011799, 0.01024848, 0.01118202, 0.0121044 ,\n",
       "       0.01270935, 0.01321897, 0.01361283, 0.01305825, 0.01283049])"
      ]
     },
     "execution_count": 7,
     "metadata": {},
     "output_type": "execute_result"
    }
   ],
   "source": [
    "error_normalized[0,0,0:10]"
   ]
  },
  {
   "cell_type": "code",
   "execution_count": 13,
   "metadata": {},
   "outputs": [
    {
     "name": "stdout",
     "output_type": "stream",
     "text": [
      "finding path that contains \"code\", then going up one level to find \"LaTeX\"\n",
      "e:\\projects\\balanced_neural_odes_internal\\code\\python\\analysis\\iclr\n",
      "e:\\projects\\balanced_neural_odes_internal\\code\\python\\analysis\n",
      "e:\\projects\\balanced_neural_odes_internal\\code\\python\n",
      "e:\\projects\\balanced_neural_odes_internal\\code\n",
      "e:\\projects\\balanced_neural_odes_internal\n",
      "E:\\projects\\balanced_neural_odes_internal\\LaTeX\\ICLR 2025 Template\\figures\\BNODE\\reconstruction_BNODE.png\n"
     ]
    },
    {
     "name": "stderr",
     "output_type": "stream",
     "text": [
      "e:\\projects\\balanced_neural_odes_internal\\code\\python\\analysis\\iclr\\plotting.py:58: UserWarning: This figure includes Axes that are not compatible with tight_layout, so results might be incorrect.\n",
      "  fig.savefig(_path.with_suffix(f\".{file_type}\"), **kwargs, bbox_inches='tight', pad_inches=0)\n"
     ]
    },
    {
     "name": "stdout",
     "output_type": "stream",
     "text": [
      "E:\\projects\\balanced_neural_odes_internal\\LaTeX\\ICLR 2025 Template\\figures\\BNODE\\reconstruction_BNODE.svg\n"
     ]
    },
    {
     "name": "stderr",
     "output_type": "stream",
     "text": [
      "c:\\Users\\userXXXjuliu\\.conda\\envs\\ma_userXXX\\lib\\site-packages\\IPython\\core\\events.py:82: UserWarning: This figure includes Axes that are not compatible with tight_layout, so results might be incorrect.\n",
      "  func(*args, **kwargs)\n",
      "c:\\Users\\userXXXjuliu\\.conda\\envs\\ma_userXXX\\lib\\site-packages\\IPython\\core\\pylabtools.py:152: UserWarning: This figure includes Axes that are not compatible with tight_layout, so results might be incorrect.\n",
      "  fig.canvas.print_figure(bytes_io, **kw)\n"
     ]
    },
    {
     "data": {
      "image/png": "[encoded data removed]",
      "text/plain": [
       "<Figure size 275.054x75 with 4 Axes>"
      ]
     },
     "metadata": {},
     "output_type": "display_data"
    }
   ],
   "source": [
    "fig = plt.figure(figsize=fig_size(0.75,n_figs_per_width=2), tight_layout=True)\n",
    "fontsize = 7\n",
    "\n",
    "grid_spec = matplotlib.gridspec.GridSpec(1, 4, width_ratios=[1,1,1,0.05], wspace=0.2, top=1.0, left=0.00, right=1.0, bottom=0.0)\n",
    "ax = [fig.add_subplot(grid_spec[i]) for i in range(4)]\n",
    "for i in range(1,3):\n",
    "    # share y axis\n",
    "    ax[i].sharey(ax[0])\n",
    "    # remove y ticks\n",
    "    ax[i].set_yticks([])\n",
    "# fig, ax = plt.subplots(1, 2, figsize=fig_size(2.0),)\n",
    "cmap = 'RdBu'\n",
    "\n",
    "ax[0].imshow(states[0,:,:], aspect='auto', cmap = cmap, interpolation= 'none')\n",
    "# add horizontal lines on y axis\n",
    "for i in range(1, states.shape[1]):\n",
    "    ax[0].axhline(i-0.5, color='grey', lw=0.5)\n",
    "# ax[0].set_xlabel('time step $k$', fontsize=fontsize)\n",
    "ax[0].set_ylabel('state dim. $\\square_i$', fontsize=fontsize)\n",
    "ax[0].set_title(r'$\\boldsymbol{x}_{0:T}$', fontsize=fontsize, loc='center')\n",
    "\n",
    "ax[1].imshow(lat_states_mu[0,:, :], aspect='auto', cmap = cmap, interpolation= 'none', vmin=-2, vmax=2)\n",
    "# add horizontal lines on y axis\n",
    "for i in range(1, lat_states_mu.shape[1]):\n",
    "    ax[1].axhline(i-0.5, color='grey', lw=0.5)\n",
    "# ax[1].set_xlabel(r'time step $k$', fontsize=fontsize)\n",
    "ax[1].set_title(r'$\\boldsymbol{x}^z_{0:T}$', fontsize=fontsize, loc='center')\n",
    "\n",
    "ax[2].imshow(states_hat[0,:,:], aspect='auto', cmap = cmap, interpolation= 'none')\n",
    "# add horizontal lines on y axis\n",
    "for i in range(1, states.shape[1]):\n",
    "    ax[2].axhline(i-0.5, color='grey', lw=0.5)\n",
    "# ax[2].set_xlabel('time step $k$', fontsize=fontsize)\n",
    "# ax[2].set_ylabel('State Dimension', fontsize=fontsize)\n",
    "ax[2].text(100, -1.6, r'$\\hat{\\boldsymbol{x}}_{0:T}$', fontsize=fontsize, ha ='left', va='bottom')\n",
    "\n",
    "# # add colorbar to the right\n",
    "cbar = plt.colorbar(ax[1].images[0], cax=ax[-1], orientation='vertical')\n",
    "cbar.set_label(r'\\noindent $x^z_k$', fontsize=fontsize, labelpad =-4.0)\n",
    "cbar.ax.tick_params(labelsize=8)\n",
    "\n",
    "# replace x ticks with time\n",
    "n_ticks = 3\n",
    "idx = np.linspace(0, time.shape[0], n_ticks)\n",
    "_time = idx * (max(time)-min(time)) / time.shape[0]\n",
    "for i in range(3):\n",
    "    ax[i].set_xticks(np.linspace(0, time.shape[0], n_ticks))\n",
    "    ax[i].set_xticklabels(['0', '0.5', '1'])\n",
    "    ax[i].set_xlabel('time [s]', fontsize=fontsize)\n",
    "\n",
    "# add rmse and max error\n",
    "str = 'RMSE' + f'={rmse_total_normalized*100:.1f}\\%' + '\\n' + 'max  ' + f'={max_error_normalized*100:.1f}\\% \\n(test set; {n_samples} samples)'\n",
    "ax[2].text(260, -0.5, str, ha='left', va='bottom', fontsize=fontsize-2)\n",
    "\n",
    "# set all x ticks to fontsize\n",
    "for i in range(3):\n",
    "    ax[i].tick_params(axis='x', labelsize=fontsize)\n",
    "\n",
    "savefig(fig, get_paper_path('BNODE', 'reconstruction_BNODE'))"
   ]
  }
 ],
 "metadata": {
  "kernelspec": {
   "display_name": "th_ak",
   "language": "python",
   "name": "python3"
  },
  "language_info": {
   "codemirror_mode": {
    "name": "ipython",
    "version": 3
   },
   "file_extension": ".py",
   "mimetype": "text/x-python",
   "name": "python",
   "nbconvert_exporter": "python",
   "pygments_lexer": "ipython3",
   "version": "3.9.19"
  }
 },
 "nbformat": 4,
 "nbformat_minor": 2
}
