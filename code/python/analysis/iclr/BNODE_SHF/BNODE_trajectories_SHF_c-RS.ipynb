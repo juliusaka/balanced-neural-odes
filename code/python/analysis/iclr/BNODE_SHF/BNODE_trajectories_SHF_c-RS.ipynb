{
 "cells": [
  {
   "cell_type": "code",
   "execution_count": 38,
   "metadata": {},
   "outputs": [
    {
     "name": "stdout",
     "output_type": "stream",
     "text": [
      "The autoreload extension is already loaded. To reload it, use:\n",
      "  %reload_ext autoreload\n"
     ]
    }
   ],
   "source": [
    "%load_ext autoreload\n",
    "%autoreload 2\n",
    "import pandas as pd\n",
    "import numpy as np\n",
    "import h5py\n",
    "from pathlib import Path\n",
    "import os\n",
    "import sys\n",
    "sys.path.append(os.getcwd() + '/../..')\n",
    "sys.path.append(os.getcwd() + '/..')\n",
    "from filepaths import filepath_from_ml_artifacts_uri\n",
    "from analysis.iclr.plotting import settings, fig_size, cb_line_cycler, cb_line_cycler_solid, cb_marker_cycler, savefig\n",
    "from plot_hdf5_dataset import plot_dataset\n",
    "from iclr_paper_path import get_paper_path\n",
    "import matplotlib\n",
    "settings()\n",
    "import matplotlib.pyplot as plt"
   ]
  },
  {
   "cell_type": "code",
   "execution_count": 39,
   "metadata": {},
   "outputs": [],
   "source": [
    "path = filepath_from_ml_artifacts_uri('mlflow-artifacts:/799837826878041253/7101880dc4074ad4bfae482e4cc1709c/artifacts/dataset.hdf5')\n",
    "file = h5py.File(path, 'r')\n",
    "train_set_path = filepath_from_ml_artifacts_uri('mlflow-artifacts:/829789035554334690/2ca1dc3ab4ca4fda96dc072fea11451f/artifacts/dataset.hdf5')\n",
    "train_file = h5py.File(train_set_path, 'r')\n",
    "\n",
    "def calculate_normed_loss(file, train_file):\n",
    "    # calculate norms\n",
    "    var_states = train_file['train']['states'][:].std(axis=(0, 2))\n",
    "    mean_states = train_file['train']['states'][:].mean(axis=(0, 2))\n",
    "    var_outputs = train_file['train']['outputs'][:].std(axis=(0, 2))\n",
    "    mean_outputs = train_file['train']['outputs'][:].mean(axis=(0, 2))\n",
    "    \n",
    "    # normalize\n",
    "    x = file['common_test']['states'][:]\n",
    "    xhat = file['common_test']['states_hat'][:]\n",
    "    y = file['common_test']['outputs'][:]\n",
    "    yhat = file['common_test']['outputs_hat'][:]\n",
    "    \n",
    "    var_states = np.expand_dims(var_states, axis=(0, 2))\n",
    "    mean_states = np.expand_dims(mean_states, axis=(0, 2))\n",
    "    var_outputs = np.expand_dims(var_outputs, axis=(0, 2))\n",
    "    mean_outputs = np.expand_dims(mean_outputs, axis=(0, 2))\n",
    "\n",
    "    # x = (x - mean_states) / var_states\n",
    "    # xhat = (xhat - mean_states) / var_states\n",
    "    # y = (y - mean_outputs) / var_outputs\n",
    "    # yhat = (yhat - mean_outputs) / var_outputs\n",
    "    x = x /mean_states\n",
    "    xhat = xhat / mean_states\n",
    "    y = y / mean_outputs\n",
    "    yhat = yhat / mean_outputs\n",
    "\n",
    "    # calculate loss\n",
    "    # loss = np.square(y - yhat).mean(axis=(1,2)) + np.square(x - xhat).mean(axis=(1,2)).sqrt()\n",
    "    max_error = np.sqrt(np.square(x - xhat).max())\n",
    "    rmse_states = np.sqrt(np.square(x - xhat).mean(axis=(1,2)))\n",
    "    rmse_outputs = np.sqrt(np.square(y - yhat).mean(axis=(1,2)))\n",
    "    loss = rmse_states #+ rmse_outputs\n",
    "    return loss, max_error\n",
    "\n",
    "loss, max_error = calculate_normed_loss(file, train_file)\n",
    "loss = loss *100\n",
    "max_error = max_error * 100\n",
    "\n",
    "n_samples = len(loss)"
   ]
  },
  {
   "cell_type": "code",
   "execution_count": 40,
   "metadata": {},
   "outputs": [
    {
     "data": {
      "text/plain": [
       "30.113607587174783"
      ]
     },
     "execution_count": 40,
     "metadata": {},
     "output_type": "execute_result"
    }
   ],
   "source": [
    "max_error"
   ]
  },
  {
   "cell_type": "code",
   "execution_count": 41,
   "metadata": {},
   "outputs": [
    {
     "data": {
      "text/plain": [
       "Text(4.99, 0.9, 'max. RMSE: 1.29')"
      ]
     },
     "execution_count": 41,
     "metadata": {},
     "output_type": "execute_result"
    },
    {
     "data": {
      "image/png": "[encoded data removed]",
      "text/plain": [
       "<Figure size 275.054x150 with 1 Axes>"
      ]
     },
     "metadata": {},
     "output_type": "display_data"
    }
   ],
   "source": [
    "# make histogram of loss\n",
    "min = 0\n",
    "max = 5\n",
    "fig, ax = plt.subplots(1,1, figsize = fig_size(1.5, n_figs_per_width=2), tight_layout=True)\n",
    "ax.set_prop_cycle(cb_line_cycler)\n",
    "bins = np.linspace(0, max, 100)\n",
    "ax.hist(loss, bins=bins, density=True, cumulative=True, )\n",
    "ax.hist(loss, bins=bins, density=True, cumulative=True, histtype='step', linewidth=1, color='black')\n",
    "ax.set_xlabel('Reconstruction RMSE in \\%')\n",
    "ax.set_ylabel('CDF')\n",
    "ax.set_xlim([0, max])\n",
    "ax.set_xticks(np.linspace(0, max, 5))\n",
    "# ax.set_ylim([0, 1])\n",
    "# plot max loss as text in top right\n",
    "max_loss = np.max(loss)\n",
    "ax.text(max - 0.01, 0.9, f'max. RMSE: {max_loss:.2f}', verticalalignment='top', horizontalalignment='right', fontsize=8)\n",
    "\n",
    "# savefig(fig, '../../../../latex/thesis_chapters/figures/Analysis/LODE_Step_Freq/LODE_SHF_c-RS_loss_hist', pgf=False)"
   ]
  },
  {
   "cell_type": "code",
   "execution_count": 42,
   "metadata": {},
   "outputs": [
    {
     "name": "stdout",
     "output_type": "stream",
     "text": [
      "308\n",
      "112\n",
      "395\n",
      "65\n"
     ]
    }
   ],
   "source": [
    "# get id of max loss\n",
    "max_loss_id = np.argmax(loss)\n",
    "print(max_loss_id)\n",
    "# get id of second max loss\n",
    "second_max_loss_id = np.argsort(loss)[-2]\n",
    "print(second_max_loss_id)\n",
    "# get id of median loss\n",
    "median_loss_id = np.argsort(loss)[len(loss)//2]\n",
    "print(median_loss_id)\n",
    "# get id of min loss\n",
    "min_loss_id = np.argmin(loss)\n",
    "print(min_loss_id)"
   ]
  },
  {
   "cell_type": "code",
   "execution_count": 45,
   "metadata": {},
   "outputs": [
    {
     "name": "stdout",
     "output_type": "stream",
     "text": [
      "finding path that contains \"code\", then going up one level to find \"LaTeX\"\n",
      "e:\\projects\\balanced_neural_odes_internal\\code\\python\\analysis\\iclr\n",
      "e:\\projects\\balanced_neural_odes_internal\\code\\python\\analysis\n",
      "e:\\projects\\balanced_neural_odes_internal\\code\\python\n",
      "e:\\projects\\balanced_neural_odes_internal\\code\n",
      "e:\\projects\\balanced_neural_odes_internal\n",
      "finding path that contains \"code\", then going up one level to find \"LaTeX\"\n",
      "e:\\projects\\balanced_neural_odes_internal\\code\\python\\analysis\\iclr\n",
      "e:\\projects\\balanced_neural_odes_internal\\code\\python\\analysis\n",
      "e:\\projects\\balanced_neural_odes_internal\\code\\python\n",
      "e:\\projects\\balanced_neural_odes_internal\\code\n",
      "e:\\projects\\balanced_neural_odes_internal\n",
      "finding path that contains \"code\", then going up one level to find \"LaTeX\"\n",
      "e:\\projects\\balanced_neural_odes_internal\\code\\python\\analysis\\iclr\n",
      "e:\\projects\\balanced_neural_odes_internal\\code\\python\\analysis\n",
      "e:\\projects\\balanced_neural_odes_internal\\code\\python\n",
      "e:\\projects\\balanced_neural_odes_internal\\code\n",
      "e:\\projects\\balanced_neural_odes_internal\n",
      "finding path that contains \"code\", then going up one level to find \"LaTeX\"\n",
      "e:\\projects\\balanced_neural_odes_internal\\code\\python\\analysis\\iclr\n",
      "e:\\projects\\balanced_neural_odes_internal\\code\\python\\analysis\n",
      "e:\\projects\\balanced_neural_odes_internal\\code\\python\n",
      "e:\\projects\\balanced_neural_odes_internal\\code\n",
      "e:\\projects\\balanced_neural_odes_internal\n"
     ]
    },
    {
     "data": {
      "image/png": "[encoded data removed]",
      "text/plain": [
       "<Figure size 275.054x130 with 3 Axes>"
      ]
     },
     "metadata": {},
     "output_type": "display_data"
    },
    {
     "name": "stdout",
     "output_type": "stream",
     "text": [
      "E:\\projects\\balanced_neural_odes_internal\\LaTeX\\ICLR 2025 Template\\figures\\BNODE\\SHF\\trajectory_beta_0_1_max_loss.png\n",
      "E:\\projects\\balanced_neural_odes_internal\\LaTeX\\ICLR 2025 Template\\figures\\BNODE\\SHF\\trajectory_beta_0_1_max_loss.svg\n"
     ]
    },
    {
     "data": {
      "image/png": "[encoded data removed]",
      "text/plain": [
       "<Figure size 275.054x130 with 3 Axes>"
      ]
     },
     "metadata": {},
     "output_type": "display_data"
    },
    {
     "name": "stdout",
     "output_type": "stream",
     "text": [
      "E:\\projects\\balanced_neural_odes_internal\\LaTeX\\ICLR 2025 Template\\figures\\BNODE\\SHF\\trajectory_beta_0_1_second_max_loss.png\n",
      "E:\\projects\\balanced_neural_odes_internal\\LaTeX\\ICLR 2025 Template\\figures\\BNODE\\SHF\\trajectory_beta_0_1_second_max_loss.svg\n"
     ]
    },
    {
     "data": {
      "image/png": "[encoded data removed]",
      "text/plain": [
       "<Figure size 275.054x130 with 3 Axes>"
      ]
     },
     "metadata": {},
     "output_type": "display_data"
    },
    {
     "name": "stdout",
     "output_type": "stream",
     "text": [
      "E:\\projects\\balanced_neural_odes_internal\\LaTeX\\ICLR 2025 Template\\figures\\BNODE\\SHF\\trajectory_beta_0_1_median_loss.png\n",
      "E:\\projects\\balanced_neural_odes_internal\\LaTeX\\ICLR 2025 Template\\figures\\BNODE\\SHF\\trajectory_beta_0_1_median_loss.svg\n"
     ]
    },
    {
     "data": {
      "image/png": "[encoded data removed]",
      "text/plain": [
       "<Figure size 275.054x130 with 3 Axes>"
      ]
     },
     "metadata": {},
     "output_type": "display_data"
    },
    {
     "name": "stdout",
     "output_type": "stream",
     "text": [
      "E:\\projects\\balanced_neural_odes_internal\\LaTeX\\ICLR 2025 Template\\figures\\BNODE\\SHF\\trajectory_beta_0_1_min_loss.png\n",
      "E:\\projects\\balanced_neural_odes_internal\\LaTeX\\ICLR 2025 Template\\figures\\BNODE\\SHF\\trajectory_beta_0_1_min_loss.svg\n"
     ]
    }
   ],
   "source": [
    "def make_path(name):\n",
    "    # return '../../../../latex/thesis_chapters/figures/Analysis/LODE_Step_Freq/LODE_SHF_c-RS' + name\n",
    "    return get_paper_path('BNODE', 'SHF', 'trajectory_beta_0_1_' + name)\n",
    "for sample_id, save_path in zip([max_loss_id, second_max_loss_id, median_loss_id, min_loss_id], [make_path('max_loss'), make_path('second_max_loss'), make_path('median_loss'), make_path('min_loss')]):\n",
    "    dataset_type = 'common_test'\n",
    "    sample_id = sample_id\n",
    "    size = fig_size(1.3, n_figs_per_width=2)\n",
    "    controls = ['temperature_K_a']\n",
    "    states = ['stratifiedHeatFlow.partition[1].heatCapacitor.T','stratifiedHeatFlow.partition[8].heatCapacitor.T']\n",
    "    display_states = ['partition[1].heatCapacitor.T', 'partition[8].heatCapacitor.T',]\n",
    "    outputs = [] \n",
    "    parameters = False\n",
    "    fig, ax = plot_dataset(file,\n",
    "                dataset_type=dataset_type,\n",
    "                sample_id=sample_id,\n",
    "                figsize=size,\n",
    "                fontsize=6,\n",
    "                linewidth=1.0,\n",
    "                controls=controls,\n",
    "                states=states,\n",
    "                outputs=outputs,\n",
    "                parameters=parameters,\n",
    "                ylim_range=95,\n",
    "                save_path=None,\n",
    "                display_states=display_states,\n",
    "    )\n",
    "    _loss = loss.mean()\n",
    "    str = 'RMSE' + f'={_loss:.1f}\\%' + '\\n' + 'max  ' + f'={max_error:.1f}\\% (test set; {n_samples} samples)'\n",
    "    ax[0].text(0.20, 1.0, str, horizontalalignment='left', verticalalignment='bottom', transform=ax[0].transAxes, fontsize=5)\n",
    "    savefig(fig, save_path)"
   ]
  },
  {
   "cell_type": "code",
   "execution_count": 44,
   "metadata": {},
   "outputs": [
    {
     "data": {
      "text/plain": [
       "(461,)"
      ]
     },
     "execution_count": 44,
     "metadata": {},
     "output_type": "execute_result"
    }
   ],
   "source": [
    "loss.shape"
   ]
  }
 ],
 "metadata": {
  "kernelspec": {
   "display_name": "th_ak",
   "language": "python",
   "name": "python3"
  },
  "language_info": {
   "codemirror_mode": {
    "name": "ipython",
    "version": 3
   },
   "file_extension": ".py",
   "mimetype": "text/x-python",
   "name": "python",
   "nbconvert_exporter": "python",
   "pygments_lexer": "ipython3",
   "version": "3.9.19"
  }
 },
 "nbformat": 4,
 "nbformat_minor": 2
}
