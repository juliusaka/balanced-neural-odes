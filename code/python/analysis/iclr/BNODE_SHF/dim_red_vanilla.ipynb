{
 "cells": [
  {
   "cell_type": "code",
   "execution_count": 1,
   "metadata": {},
   "outputs": [],
   "source": [
    "%load_ext autoreload\n",
    "%autoreload 2\n",
    "import pandas as pd\n",
    "import numpy as np\n",
    "import h5py\n",
    "from pathlib import Path\n",
    "import os\n",
    "import sys\n",
    "sys.path.append(os.getcwd() + '/../..')\n",
    "sys.path.append(os.getcwd() + '/..')\n",
    "from filepaths import filepath_from_ml_artifacts_uri\n",
    "from analysis.iclr.plotting import settings, fig_size, cb_line_cycler, cb_line_cycler_solid, cb_marker_cycler, savefig\n",
    "from plot_hdf5_dataset import plot_dataset\n",
    "from iclr_paper_path import get_paper_path\n",
    "import matplotlib\n",
    "settings()\n",
    "import matplotlib.pyplot as plt\n",
    "\n",
    "path_dataset = filepath_from_ml_artifacts_uri('mlflow-artifacts:/829789035554334690/7e71f73940ff4daca508d0e78a511154/artifacts/dataset.hdf5')"
   ]
  },
  {
   "cell_type": "code",
   "execution_count": 2,
   "metadata": {},
   "outputs": [
    {
     "name": "stdout",
     "output_type": "stream",
     "text": [
      "<KeysViewHDF5 ['common_test', 'common_validation', 'controls_names', 'outputs_names', 'parameters_names', 'states_der_names', 'states_names', 'test', 'time', 'train', 'validation']>\n"
     ]
    }
   ],
   "source": [
    "dataset = h5py.File(path_dataset, 'r')\n",
    "print(dataset.keys())"
   ]
  },
  {
   "cell_type": "code",
   "execution_count": 5,
   "metadata": {},
   "outputs": [
    {
     "data": {
      "text/plain": [
       "<KeysViewHDF5 ['controls', 'kl_lat_controls', 'kl_lat_controls_per_dim', 'kl_lat_parameters', 'kl_lat_state_0', 'kl_lat_state_0_per_dim', 'kl_lat_states', 'kl_loss', 'lat_controls_logvar', 'lat_controls_mu', 'lat_dim_controls_populated', 'lat_dim_parameters_populated', 'lat_dim_state_0_populated', 'lat_dim_states_populated', 'lat_state_0_logvar', 'lat_state_0_mu', 'lat_states', 'loss', 'ode_calls_forward', 'outputs', 'outputs_hat', 'parameters', 'reconstruction_loss', 'reconstruction_loss_outputs', 'reconstruction_loss_state_0', 'reconstruction_loss_states', 'rmse_outputs', 'rmse_state_0', 'rmse_states', 'states', 'states_der', 'states_hat', 'time_odeint', 'time_outputs']>"
      ]
     },
     "execution_count": 5,
     "metadata": {},
     "output_type": "execute_result"
    }
   ],
   "source": [
    "dataset['common_test'].keys()"
   ]
  },
  {
   "cell_type": "code",
   "execution_count": 18,
   "metadata": {},
   "outputs": [],
   "source": [
    "dataset_type = 'common_test'\n",
    "kl_lat_state_0_per_dim = dataset[dataset_type]['kl_lat_state_0_per_dim'][:]\n",
    "lat_states_hat = dataset[dataset_type]['lat_states'][:]\n",
    "time = dataset['time'][:]"
   ]
  },
  {
   "cell_type": "code",
   "execution_count": 63,
   "metadata": {},
   "outputs": [
    {
     "name": "stdout",
     "output_type": "stream",
     "text": [
      "finding path that contains \"code\", then going up one level to find \"LaTeX\"\n",
      "e:\\projects\\balanced_neural_odes_internal\\code\\python\\analysis\\iclr\n",
      "e:\\projects\\balanced_neural_odes_internal\\code\\python\\analysis\n",
      "e:\\projects\\balanced_neural_odes_internal\\code\\python\n",
      "e:\\projects\\balanced_neural_odes_internal\\code\n",
      "e:\\projects\\balanced_neural_odes_internal\n",
      "E:\\projects\\balanced_neural_odes_internal\\LaTeX\\ICLR 2025 Template\\figures\\BNODE\\collpase_vanilla.png\n",
      "E:\\projects\\balanced_neural_odes_internal\\LaTeX\\ICLR 2025 Template\\figures\\BNODE\\collpase_vanilla.svg\n"
     ]
    },
    {
     "name": "stderr",
     "output_type": "stream",
     "text": [
      "e:\\projects\\balanced_neural_odes_internal\\code\\python\\analysis\\iclr\\plotting.py:58: UserWarning: This figure includes Axes that are not compatible with tight_layout, so results might be incorrect.\n",
      "  fig.savefig(_path.with_suffix(f\".{file_type}\"), **kwargs, bbox_inches='tight', pad_inches=0)\n",
      "c:\\Users\\userXXXjuliu\\.conda\\envs\\ma_userXXX\\lib\\site-packages\\IPython\\core\\events.py:82: UserWarning: This figure includes Axes that are not compatible with tight_layout, so results might be incorrect.\n",
      "  func(*args, **kwargs)\n",
      "c:\\Users\\userXXXjuliu\\.conda\\envs\\ma_userXXX\\lib\\site-packages\\IPython\\core\\pylabtools.py:152: UserWarning: This figure includes Axes that are not compatible with tight_layout, so results might be incorrect.\n",
      "  fig.canvas.print_figure(bytes_io, **kw)\n"
     ]
    },
    {
     "data": {
      "image/png": "[encoded data removed]",
      "text/plain": [
       "<Figure size 180x85 with 3 Axes>"
      ]
     },
     "metadata": {},
     "output_type": "display_data"
    }
   ],
   "source": [
    "fig = plt.figure(figsize=fig_size(0.85,3.6, n_figs_per_width=2), tight_layout=True)\n",
    "fontsize = 7\n",
    "\n",
    "grid_spec = matplotlib.gridspec.GridSpec(1, 3, width_ratios=[1,1,0.05], wspace=0.2, top=1.0, left=0.0, right=1.0)\n",
    "ax = [fig.add_subplot(grid_spec[i]) for i in range(3)]\n",
    "for i in range(1,2):\n",
    "    # share y axis\n",
    "    ax[i].sharey(ax[0])\n",
    "    # remove y ticks\n",
    "    ax[i].set_yticks([])\n",
    "cmap = 'RdBu'\n",
    "\n",
    "ax[0].imshow(kl_lat_state_0_per_dim.T, aspect='auto', cmap = cmap, interpolation= 'none', vmin=-2, vmax=2)\n",
    "# add horizontal lines on y axis\n",
    "for i in range(1, kl_lat_state_0_per_dim.shape[1]):\n",
    "    ax[0].axhline(i-0.5, color='grey', lw=0.5)\n",
    "ax[0].set_xlabel('sample in test set', fontsize=fontsize)\n",
    "ax[0].set_ylabel('state dim. $\\square_i$', fontsize=fontsize)\n",
    "ax[0].set_title(r'\\noindent$D_{\\text{KL}}(q(\\boldsymbol{x}^z_0|\\boldsymbol{x}_0)||p(\\boldsymbol{z}))$', fontsize=fontsize)\n",
    "\n",
    "ax[1].imshow(lat_states_hat[0,:, :], aspect='auto', cmap = cmap, interpolation= 'none', vmin=-2, vmax=2)\n",
    "# add horizontal lines on y axis\n",
    "for i in range(1, lat_states_hat.shape[1]):\n",
    "    ax[1].axhline(i-0.5, color='grey', lw=0.5)\n",
    "# ax[1].set_xlabel(r'time step $k$', fontsize=fontsize)\n",
    "ax[1].set_title(r'\\noindent $\\boldsymbol{x}^z_{0:T}$,one sample', fontsize=fontsize, loc='center')\n",
    "n_ticks = 3\n",
    "idx = np.linspace(0, time.shape[0], n_ticks)\n",
    "_time = idx * (max(time)-min(time)) / time.shape[0]\n",
    "i=1\n",
    "ax[i].set_xticks(np.linspace(0, time.shape[0], n_ticks))\n",
    "ax[i].set_xticklabels([f'{_time[i]:.1f}' for i in range(n_ticks)])\n",
    "ax[i].set_xlabel('time [s]', fontsize=fontsize)\n",
    "\n",
    "# add colorbar to the right\n",
    "cbar = plt.colorbar(ax[1].images[0], cax=ax[2], orientation='vertical')\n",
    "cbar.set_label(r'\\noindent $x^z_k, D_{\\text{KL}}$', fontsize=fontsize, loc='center', labelpad=-4.0)\n",
    "cbar.ax.tick_params(labelsize=fontsize)\n",
    "\n",
    "# set all x ticks to fontsize\n",
    "for i in range(2):\n",
    "    ax[i].tick_params(axis='x', labelsize=fontsize)\n",
    "\n",
    "savefig(fig, get_paper_path('BNODE', 'collpase_vanilla'))"
   ]
  },
  {
   "cell_type": "code",
   "execution_count": 10,
   "metadata": {},
   "outputs": [],
   "source": [
    "savefig(fig, '../../../../latex/thesis_chapters/figures/Methods/latent-ode/vanilla_lat_ode_state_reduction_collapse')"
   ]
  }
 ],
 "metadata": {
  "kernelspec": {
   "display_name": "th_ak",
   "language": "python",
   "name": "python3"
  },
  "language_info": {
   "codemirror_mode": {
    "name": "ipython",
    "version": 3
   },
   "file_extension": ".py",
   "mimetype": "text/x-python",
   "name": "python",
   "nbconvert_exporter": "python",
   "pygments_lexer": "ipython3",
   "version": "3.9.19"
  }
 },
 "nbformat": 4,
 "nbformat_minor": 2
}
