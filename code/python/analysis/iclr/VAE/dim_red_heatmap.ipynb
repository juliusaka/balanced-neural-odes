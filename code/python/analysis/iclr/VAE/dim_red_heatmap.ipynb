{
 "cells": [
  {
   "cell_type": "markdown",
   "metadata": {},
   "source": [
    "chosen example: \n",
    "\n",
    "VAE: clean-gull-718 (Run id: a75dc5ac2d4e443585bc79d76efa02ac)\n",
    "    beta_start = 0.001\n",
    "    \n",
    "PELS-VAE: rare-moth-313 (b93b3cd3d3eb4b079274268e82d01259)"
   ]
  },
  {
   "cell_type": "code",
   "execution_count": 27,
   "metadata": {},
   "outputs": [
    {
     "name": "stdout",
     "output_type": "stream",
     "text": [
      "The autoreload extension is already loaded. To reload it, use:\n",
      "  %reload_ext autoreload\n"
     ]
    }
   ],
   "source": [
    "%load_ext autoreload\n",
    "%autoreload 2\n",
    "import pandas as pd\n",
    "import numpy as np\n",
    "import h5py\n",
    "from pathlib import Path\n",
    "import os\n",
    "import sys\n",
    "sys.path.append(os.getcwd() + '/../..')\n",
    "sys.path.append(os.getcwd() + '/..')\n",
    "from filepaths import filepath_from_ml_artifacts_uri\n",
    "from analysis.iclr.plotting import settings, fig_size, cb_line_cycler, cb_line_cycler_solid, cb_marker_cycler, savefig\n",
    "from plot_hdf5_dataset import plot_dataset\n",
    "from iclr_paper_path import get_paper_path\n",
    "import matplotlib\n",
    "settings()\n",
    "import matplotlib.pyplot as plt"
   ]
  },
  {
   "cell_type": "code",
   "execution_count": 28,
   "metadata": {},
   "outputs": [],
   "source": [
    "VAE = True\n",
    "\n",
    "path_dataset_vae = 'data/clean_gull_718/artifacts/dataset.hdf5' if VAE else 'data/rare_moth_313/artifacts/dataset.hdf5'\n",
    "\n",
    "if VAE:\n",
    "    path_dataset_vae = filepath_from_ml_artifacts_uri('mlflow-artifacts:/595842590057669767/a75dc5ac2d4e443585bc79d76efa02ac/artifacts/dataset.hdf5')\n",
    "else:\n",
    "    path_dataset_vae = filepath_from_ml_artifacts_uri('mlflow-artifacts:/595842590057669767/b93b3cd3d3eb4b079274268e82d01259/artifacts/dataset.hdf5')"
   ]
  },
  {
   "cell_type": "code",
   "execution_count": 29,
   "metadata": {},
   "outputs": [
    {
     "name": "stdout",
     "output_type": "stream",
     "text": [
      "<KeysViewHDF5 ['common_test', 'common_validation', 'outputs_names', 'parameters_names', 'states_der_names', 'states_names', 'test', 'time', 'train', 'validation']>\n"
     ]
    }
   ],
   "source": [
    "dataset = h5py.File(path_dataset_vae, 'r')\n",
    "print(dataset.keys())"
   ]
  },
  {
   "cell_type": "code",
   "execution_count": 30,
   "metadata": {},
   "outputs": [],
   "source": [
    "kl_test = dataset['common_test']['kl_loss_raw'][:]\n",
    "mu_test = dataset['common_test']['mu_hat'][:]\n",
    "logvar_test = dataset['common_test']['logvar_hat'][:]\n",
    "var_test = np.exp(logvar_test)\n",
    "std_test = np.sqrt(var_test)\n",
    "\n",
    "use_logvar = False"
   ]
  },
  {
   "cell_type": "code",
   "execution_count": 31,
   "metadata": {},
   "outputs": [
    {
     "data": {
      "text/plain": [
       "(246, 512)"
      ]
     },
     "execution_count": 31,
     "metadata": {},
     "output_type": "execute_result"
    }
   ],
   "source": [
    "kl_test[:,].shape"
   ]
  },
  {
   "cell_type": "code",
   "execution_count": 32,
   "metadata": {},
   "outputs": [
    {
     "name": "stdout",
     "output_type": "stream",
     "text": [
      "finding path that contains \"code\", then going up one level to find \"LaTeX\"\n",
      "e:\\projects\\balanced_neural_odes_internal\\code\\python\\analysis\\iclr\n",
      "e:\\projects\\balanced_neural_odes_internal\\code\\python\\analysis\n",
      "e:\\projects\\balanced_neural_odes_internal\\code\\python\n",
      "e:\\projects\\balanced_neural_odes_internal\\code\n",
      "e:\\projects\\balanced_neural_odes_internal\n",
      "E:\\projects\\balanced_neural_odes_internal\\LaTeX\\ICLR 2025 Template\\figures\\VAE\\dim_red_heatmap.png\n",
      "E:\\projects\\balanced_neural_odes_internal\\LaTeX\\ICLR 2025 Template\\figures\\VAE\\dim_red_heatmap.svg\n"
     ]
    },
    {
     "data": {
      "image/png": "[encoded data removed]",
      "text/plain": [
       "<Figure size 275.054x110 with 2 Axes>"
      ]
     },
     "metadata": {},
     "output_type": "display_data"
    }
   ],
   "source": [
    "fig = plt.figure(figsize=fig_size(1.1, n_figs_per_width=2), tight_layout=True)\n",
    "\n",
    "# set title\n",
    "fig.suptitle('KL divergence', fontsize=8)\n",
    "\n",
    "grid_spec = matplotlib.gridspec.GridSpec(1, 2, hspace=0.1, width_ratios=[1,0.03], wspace=0.05)\n",
    "ax1 = fig.add_subplot(grid_spec[0])\n",
    "ax11 = fig.add_subplot(grid_spec[1])\n",
    "# ax2 = fig.add_subplot(grid_spec[2])\n",
    "# ax22 = fig.add_subplot(grid_spec[3])\n",
    "# ax2.sharex(ax1)\n",
    "\n",
    "# plot a heatmap of the KL divergence\n",
    "ax1.imshow(kl_test.T, aspect='auto', cmap='RdBu_r', vmin=-10, vmax=10, interpolation='none')\n",
    "if VAE:\n",
    "    ax1.set_ylim(400,500)\n",
    "else:\n",
    "    ax1.set_ylim(30,110)\n",
    "ax1.set_ylabel('latent dimension')\n",
    "ax1.set_xlim(0, kl_test.shape[0])\n",
    "# ax1.set_xticklabels([])\n",
    "# add a colorbar\n",
    "cbar = plt.colorbar(ax1.images[0], cax=ax11, orientation='vertical', boundaries=np.arange(0,10,0.2), ticks=np.arange(0,12,2))\n",
    "\n",
    "ax1.set_xlim(0, 100)\n",
    "ax1.set_xlabel('sample')\n",
    "\n",
    "# # set all font sizes to fontsize\n",
    "# for ax in [ax1, ax11]:\n",
    "#     for item in ([ax.title, ax.xaxis.label, ax.yaxis.label] +\n",
    "#                  ax.get_xticklabels() + ax.get_yticklabels()):\n",
    "#         item.set_fontsize(fontsize)\n",
    "\n",
    "# # plot kl sum\n",
    "# kl_test_sum = np.sum(kl_test, axis=1)\n",
    "# ax2.plot(kl_test_sum, color='black', lw=0.5)\n",
    "# ax2.set_xlim(0, kl_test_sum.shape[0])\n",
    "# ax2.set_xlabel('Sample')\n",
    "# ax2.set_ylim(0,50)\n",
    "# ax2.set_ylabel('KL Sum')\n",
    "\n",
    "# # remove ax22\n",
    "# ax22.axis('off')\n",
    "\n",
    "# savefig \n",
    "if VAE:\n",
    "    savefig(fig, get_paper_path('VAE', 'dim_red_heatmap'))"
   ]
  },
  {
   "cell_type": "code",
   "execution_count": 33,
   "metadata": {},
   "outputs": [],
   "source": [
    "# x_axis = threshold\n",
    "# y_axis = number of active dimensions\n",
    "thresholds = np.linspace(0.00, 4, 1000)\n",
    "num_active_dims = np.zeros_like(thresholds)\n",
    "for i, threshold in enumerate(thresholds):\n",
    "    idx = kl_test > threshold\n",
    "    sum_per_sample = np.sum(idx, axis=1)\n",
    "    num_active_dims[i] = np.mean(sum_per_sample)"
   ]
  },
  {
   "cell_type": "code",
   "execution_count": 50,
   "metadata": {},
   "outputs": [
    {
     "name": "stdout",
     "output_type": "stream",
     "text": [
      "finding path that contains \"code\", then going up one level to find \"LaTeX\"\n",
      "e:\\projects\\balanced_neural_odes_internal\\code\\python\\analysis\\iclr\n",
      "e:\\projects\\balanced_neural_odes_internal\\code\\python\\analysis\n",
      "e:\\projects\\balanced_neural_odes_internal\\code\\python\n",
      "e:\\projects\\balanced_neural_odes_internal\\code\n",
      "e:\\projects\\balanced_neural_odes_internal\n",
      "E:\\projects\\balanced_neural_odes_internal\\LaTeX\\ICLR 2025 Template\\figures\\VAE\\dim_red_threshold.png\n",
      "E:\\projects\\balanced_neural_odes_internal\\LaTeX\\ICLR 2025 Template\\figures\\VAE\\dim_red_threshold.svg\n"
     ]
    },
    {
     "data": {
      "image/png": "[encoded data removed]",
      "text/plain": [
       "<Figure size 275.054x100 with 1 Axes>"
      ]
     },
     "metadata": {},
     "output_type": "display_data"
    }
   ],
   "source": [
    "fig, ax = plt.subplots(figsize=fig_size(1.0, n_figs_per_width=2), tight_layout=True)\n",
    "ax.plot(thresholds, num_active_dims, color='black', lw=1.0)\n",
    "ax.set_xlabel('KL threshold')\n",
    "ax.set_ylabel(r'$\\# >$ threshold', fontsize=6)\n",
    "#ax.set_yscale('log')\n",
    "ax.set_ylim(0,20)\n",
    "ax.set_xscale('log')\n",
    "ax.set_xlim(0.01, 4)\n",
    "ax.grid(True, which='both', axis='both')\n",
    "\n",
    "# draw horizontal line at 5\n",
    "ax.axhline(5, color='black', linestyle='--', lw=1.0)\n",
    "# add text\n",
    "ax.text(0.012, 5.75, '\\#5')\n",
    "\n",
    "fig.tight_layout()\n",
    "\n",
    "if VAE:\n",
    "    savefig(fig, get_paper_path('VAE', 'dim_red_threshold'))\n",
    "else:\n",
    "    pass\n",
    "    # savefig(fig, get_paper_path('AE', 'dim_red_threshold'))"
   ]
  },
  {
   "cell_type": "code",
   "execution_count": 42,
   "metadata": {},
   "outputs": [
    {
     "data": {
      "text/plain": [
       "(0.01, 1.3)"
      ]
     },
     "execution_count": 42,
     "metadata": {},
     "output_type": "execute_result"
    },
    {
     "data": {
      "image/png": "[encoded data removed]",
      "text/plain": [
       "<Figure size 550.107x400 with 3 Axes>"
      ]
     },
     "metadata": {},
     "output_type": "display_data"
    }
   ],
   "source": [
    "# plot an example of kl, mu and logvar\n",
    "fig, ax = plt.subplots(3,1, figsize=fig_size(4.0), sharex=True, tight_layout=True)\n",
    "sample_id = 42\n",
    "min_dim = 300 if VAE else 30\n",
    "max_dim = 480 if VAE else 110\n",
    "_kl_test = kl_test[:,min_dim:max_dim]\n",
    "_mu_test = mu_test[:,min_dim:max_dim]\n",
    "_logvar_test = logvar_test[:,min_dim:max_dim]\n",
    "x = np.arange(min_dim,max_dim)\n",
    "# x = np.arange(0, kl_test.shape[1])\n",
    "ax[0].step(x,_kl_test[sample_id,:], color='black', lw=0.5)\n",
    "ax[0].set_ylabel('KL')\n",
    "ax[1].step(x,_mu_test[sample_id,:], color='black', lw=0.5)\n",
    "ax[1].set_ylabel(r'$\\mu$')\n",
    "if use_logvar: \n",
    "    ax[2].step(x,_logvar_test[sample_id,:], color='black', lw=0.5)\n",
    "    ax[2].set_ylabel(r'$\\log \\sigma^2$')\n",
    "else:\n",
    "    ax[2].step(x,np.sqrt(np.exp(_logvar_test[sample_id,:])), color='black', lw=0.5)\n",
    "    ax[2].set_ylabel(r'$\\sigma$')\n",
    "    ax[2].set_yscale('log')\n",
    "ax[2].set_xlabel('Latent Dimension')\n",
    "ax[2].set_xlim(min_dim,max_dim-1)\n",
    "# add sample id to plot\n",
    "ax[0].text(0.02, 0.8, 'Common Test - Sample {}'.format(sample_id), transform=ax[0].transAxes)\n",
    "\n",
    "# fix axes\n",
    "ax[0].set_ylim(-0.1, 5)\n",
    "ax[1].set_ylim(-2.5, 2.5)\n",
    "ax[2].set_ylim(1e-2, 1.3)"
   ]
  },
  {
   "cell_type": "code",
   "execution_count": null,
   "metadata": {},
   "outputs": [],
   "source": [
    "# # save figure\n",
    "# if VAE:\n",
    "#     savefig(fig, '../../../../latex/thesis_chapters/figures/Methods/VAE/kl_mu_logvar_example_VAE')\n",
    "# else:\n",
    "#     savefig(fig, '../../../../latex/thesis_chapters/figures/Methods/VAE/kl_mu_logvar_example_PELS')"
   ]
  },
  {
   "cell_type": "code",
   "execution_count": 48,
   "metadata": {},
   "outputs": [
    {
     "name": "stdout",
     "output_type": "stream",
     "text": [
      "(512,)\n",
      "[449 435 107 410 474 471 193]\n"
     ]
    },
    {
     "data": {
      "text/plain": [
       "Text(0.5, 1.0, 'KL distribution density')"
      ]
     },
     "execution_count": 48,
     "metadata": {},
     "output_type": "execute_result"
    },
    {
     "data": {
      "image/png": "[encoded data removed]",
      "text/plain": [
       "<Figure size 550.107x300 with 21 Axes>"
      ]
     },
     "metadata": {},
     "output_type": "display_data"
    }
   ],
   "source": [
    "# plot mu and logvar distribution for specific dimension\n",
    "kl_test_mean_per_dim = np.mean(kl_test, axis=0)\n",
    "print(kl_test_mean_per_dim.shape)\n",
    "plot_dims = np.argsort(kl_test_mean_per_dim)\n",
    "# reverse order\n",
    "plot_dims = plot_dims[::-1]\n",
    "# choose first 9\n",
    "plot_dims = plot_dims[0:7]\n",
    "print(plot_dims)\n",
    "\n",
    "fig, ax = plt.subplots(plot_dims.shape[0],3, figsize=fig_size(3.0), sharex='col', sharey='col', gridspec_kw={'hspace':0.1, 'wspace':0.1}, tight_layout=True)\n",
    "\n",
    "for i, dim in enumerate(plot_dims):\n",
    "    ax[i,0].hist(mu_test[:,dim], range=(-4,4), bins=100, color='black', density=True)\n",
    "    ax[i,0].set_xlabel(r'$\\mu$')\n",
    "    ax[i,0].set_yticks([])\n",
    "    ax[i,0].set_xlim(-4,4)\n",
    "    ax[i,0].set_xticks([-4,-3,-2,-1,0,1,2,3,4])\n",
    "    if use_logvar:\n",
    "        ax[i,1].hist(logvar_test[:,dim], range=(-7,0.1), bins=100, color='black', density=True)\n",
    "        ax[i,1].set_xlabel(r'$\\log \\sigma^2$')\n",
    "        ax[i,1].set_yticks([])\n",
    "        ax[i,1].set_xlim(-7,0.1)\n",
    "        ax[i,1].set_xticks([-7,-5,-3,-1,0])\n",
    "    else:\n",
    "        ax[i,1].hist(std_test[:,dim], range=(0,1), bins=100, color='black', density=True)\n",
    "        ax[i,1].set_xlabel(r'$\\sigma$')\n",
    "        ax[i,1].set_yticks([])\n",
    "        ax[i,1].set_xlim(2e-2, 1.1)\n",
    "        # ax[i,1].set_xscale('log')\n",
    "        #ax[i,1].set_xticks([0\n",
    "    # kl distribution\n",
    "    ax[i,2].hist(kl_test[:,dim], range=(-0.1,6), bins=100, color='black', density=True)\n",
    "    # plot dimension number\n",
    "    ax[i,0].text(0.05, 0.90, r'$\\mathrm{dim}(z)$='+ str(dim), transform=ax[i,0].transAxes, va='top', ha='left', fontsize=8)\n",
    "    ax[i,2].set_xlabel(r'KL')\n",
    "    ax[i,2].set_yticks([])\n",
    "    ax[i,2].set_xlim(-0.3,6)\n",
    "    # ax[i,2].set_ylim(0,)\n",
    "ax[0,0].set_title(r'$\\mu$ distribution density', fontsize=9)\n",
    "if use_logvar:\n",
    "    ax[0,1].set_title(r'$\\log \\sigma^2$ distribution density', fontsize=9)\n",
    "else:\n",
    "    ax[0,1].set_title(r'$\\sigma$ distribution density', fontsize=9)\n",
    "ax[0,2].set_title(r'KL distribution density', fontsize=9)\n",
    "\n",
    "\n",
    "# save figure\n",
    "if VAE:\n",
    "    savefig(fig, get_paper_path('VAE', 'kl_mu_logvar_distribution'))\n",
    "else:\n",
    "    pass\n",
    "    #  savefig(fig, '../../../../latex/thesis_chapters/figures/Methods/VAE/kl_mu_logvar_distribution_PELS')"
   ]
  }
 ],
 "metadata": {
  "kernelspec": {
   "display_name": "thesis_aka",
   "language": "python",
   "name": "python3"
  },
  "language_info": {
   "codemirror_mode": {
    "name": "ipython",
    "version": 3
   },
   "file_extension": ".py",
   "mimetype": "text/x-python",
   "name": "python",
   "nbconvert_exporter": "python",
   "pygments_lexer": "ipython3",
   "version": "3.9.19"
  }
 },
 "nbformat": 4,
 "nbformat_minor": 2
}
