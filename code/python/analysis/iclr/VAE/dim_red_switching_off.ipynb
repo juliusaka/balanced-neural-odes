{
 "cells": [
  {
   "cell_type": "markdown",
   "metadata": {},
   "source": [
    "chosen example: \n",
    "\n",
    "VAE: clean-gull-718 (Run id: a75dc5ac2d4e443585bc79d76efa02ac)\n",
    "    beta_start = 0.001"
   ]
  },
  {
   "cell_type": "code",
   "execution_count": 2,
   "metadata": {},
   "outputs": [],
   "source": [
    "%load_ext autoreload\n",
    "%autoreload 2\n",
    "import pandas as pd\n",
    "import numpy as np\n",
    "import h5py\n",
    "from pathlib import Path\n",
    "import os\n",
    "import sys\n",
    "sys.path.append(os.getcwd() + '/../..')\n",
    "sys.path.append(os.getcwd() + '/..')\n",
    "from filepaths import filepath_from_ml_artifacts_uri\n",
    "from analysis.iclr.plotting import settings, fig_size, cb_line_cycler, cb_line_cycler_solid, cb_marker_cycler, savefig\n",
    "from plot_hdf5_dataset import plot_dataset\n",
    "from iclr_paper_path import get_paper_path\n",
    "import matplotlib\n",
    "settings()\n",
    "import matplotlib.pyplot as plt\n",
    "\n",
    "import omegaconf\n",
    "import torch\n",
    "from networks.src.load_data import load_dataset_and_config, make_stacked_dataset\n",
    "from networks.pels_vae_linear.vae_architecture import VAE\n",
    "\n",
    "from networks.src.kullback_leibler import kullback_leibler, count_populated_dimensions\n",
    "# from networks.pels_vae_linear.vae_architecture import VAE, loss_function\n",
    "from analysis.C03_Methods.data.clean_gull_718.artifacts.vae_architecture import VAE, loss_function\n",
    "from config import train_test_config_class\n",
    "from networks.src.load_data import load_dataset_and_config, make_stacked_dataset\n",
    "from networks.src.early_stopping import EarlyStopping\n",
    "from networks.src.capacity_scheduler import capacity_scheduler as CapacityScheduler\n",
    "from utils.hydra_mlflow_decorator import log_hydra_to_mlflow\n",
    "\n",
    "device = torch.device('cuda' if torch.cuda.is_available() else 'cpu')"
   ]
  },
  {
   "cell_type": "code",
   "execution_count": 3,
   "metadata": {},
   "outputs": [
    {
     "name": "stdout",
     "output_type": "stream",
     "text": [
      "e:\\projects\\balanced_neural_odes_internal\\code\\python\n",
      "run this cell only once\n"
     ]
    }
   ],
   "source": [
    "os.chdir('../../..')\n",
    "print(os.getcwd())\n",
    "\n",
    "print('run this cell only once')"
   ]
  },
  {
   "cell_type": "code",
   "execution_count": 4,
   "metadata": {},
   "outputs": [],
   "source": [
    "test_vae = True"
   ]
  },
  {
   "cell_type": "code",
   "execution_count": 5,
   "metadata": {},
   "outputs": [],
   "source": [
    "if test_vae:\n",
    "    path_dataset_vae = filepath_from_ml_artifacts_uri('mlflow-artifacts:/595842590057669767/a75dc5ac2d4e443585bc79d76efa02ac/artifacts/dataset.hdf5')\n",
    "    path_model_vae = filepath_from_ml_artifacts_uri('mlflow-artifacts:/595842590057669767/a75dc5ac2d4e443585bc79d76efa02ac/artifacts/model.pt')\n",
    "else: \n",
    "    path_dataset_vae = 'analysis/C03_Methods/data/rare_moth_313/artifacts/dataset.hdf5'\n",
    "    path_model_vae = 'analysis/C03_Methods/data/rare_moth_313/artifacts/model.pt'"
   ]
  },
  {
   "cell_type": "code",
   "execution_count": 6,
   "metadata": {},
   "outputs": [
    {
     "name": "stdout",
     "output_type": "stream",
     "text": [
      "<KeysViewHDF5 ['common_test', 'common_validation', 'outputs_names', 'parameters_names', 'states_der_names', 'states_names', 'test', 'time', 'train', 'validation']>\n",
      "(512,)\n"
     ]
    }
   ],
   "source": [
    "dataset_result = h5py.File(path_dataset_vae, 'r')\n",
    "print(dataset_result.keys())\n",
    "kl_test = dataset_result['common_test']['kl_loss_raw'][:]\n",
    "\n",
    "use_logvar = False\n",
    "# determine order of dims\n",
    "kl_test_mean_per_dim = np.mean(kl_test, axis=0)\n",
    "print(kl_test_mean_per_dim.shape)\n",
    "ordered_dims = np.argsort(kl_test_mean_per_dim)"
   ]
  },
  {
   "cell_type": "code",
   "execution_count": 7,
   "metadata": {},
   "outputs": [
    {
     "data": {
      "text/plain": [
       "VAE(\n",
       "  (timeseries_normalization): NormalizationLayerTimeSeries()\n",
       "  (Regressor): Regressor(\n",
       "    (normalization): NormalizationLayer1D(num_features=14)\n",
       "    (linear): Sequential(\n",
       "      (0): Linear(in_features=14, out_features=2048, bias=True)\n",
       "      (1): ReLU()\n",
       "      (2): Linear(in_features=2048, out_features=2048, bias=True)\n",
       "      (3): ReLU()\n",
       "      (4): Linear(in_features=2048, out_features=2048, bias=True)\n",
       "      (5): ReLU()\n",
       "      (6): Linear(in_features=2048, out_features=1024, bias=True)\n",
       "    )\n",
       "  )\n",
       "  (Encoder): Encoder(\n",
       "    (flatten): Flatten(start_dim=1, end_dim=-1)\n",
       "    (linear): Sequential(\n",
       "      (0): Linear(in_features=1685, out_features=2048, bias=True)\n",
       "      (1): ReLU()\n",
       "      (2): Linear(in_features=2048, out_features=2048, bias=True)\n",
       "      (3): ReLU()\n",
       "      (4): Linear(in_features=2048, out_features=2048, bias=True)\n",
       "      (5): ReLU()\n",
       "      (6): Linear(in_features=2048, out_features=1024, bias=True)\n",
       "    )\n",
       "  )\n",
       "  (Decoder): Decoder(\n",
       "    (linear): Sequential(\n",
       "      (0): Linear(in_features=512, out_features=2048, bias=True)\n",
       "      (1): ReLU()\n",
       "      (2): Linear(in_features=2048, out_features=2048, bias=True)\n",
       "      (3): ReLU()\n",
       "      (4): Linear(in_features=2048, out_features=2048, bias=True)\n",
       "      (5): ReLU()\n",
       "      (6): Linear(in_features=2048, out_features=1685, bias=True)\n",
       "    )\n",
       "  )\n",
       ")"
      ]
     },
     "execution_count": 7,
     "metadata": {},
     "output_type": "execute_result"
    }
   ],
   "source": [
    "if test_vae:\n",
    "    _path =  filepath_from_ml_artifacts_uri('mlflow-artifacts:/595842590057669767/a75dc5ac2d4e443585bc79d76efa02ac/artifacts/.hydra/config.yaml')\n",
    "    cfg = omegaconf.OmegaConf.load(_path)\n",
    "else:\n",
    "    cfg = omegaconf.OmegaConf.load('analysis/C03_Methods/data/rare_moth_313/artifacts/.hydra/config.yaml')\n",
    "\n",
    "# load dataset and config\n",
    "dataset, dataset_config = load_dataset_and_config(cfg)\n",
    "\n",
    "# make train and test torch tensor datasets\n",
    "train_dataset = make_stacked_dataset(dataset_config, dataset, 'train')\n",
    "test_dataset = make_stacked_dataset(dataset_config, dataset, 'test')\n",
    "validation_dataset = make_stacked_dataset(dataset_config, dataset, 'validation')\n",
    "common_test_dataset = make_stacked_dataset(dataset_config, dataset, 'common_test')\n",
    "\n",
    "# initialize data loaders\n",
    "train_loader = torch.utils.data.DataLoader(train_dataset, batch_size=cfg.nn_model.training.batch_size, shuffle=True)\n",
    "test_loader = torch.utils.data.DataLoader(test_dataset, batch_size=cfg.nn_model.training.batch_size, shuffle=True)\n",
    "validation_loader = torch.utils.data.DataLoader(validation_dataset, batch_size=cfg.nn_model.training.batch_size, shuffle=True)\n",
    "common_test_loader = torch.utils.data.DataLoader(common_test_dataset, batch_size=cfg.nn_model.training.batch_size, shuffle=True)\n",
    "\n",
    "# initialize model\n",
    "model = VAE(\n",
    "    n_states=dataset['train']['states'].shape[1],\n",
    "    n_outputs=dataset['train']['outputs'].shape[1],\n",
    "    seq_len=dataset['train']['states'].shape[2],\n",
    "    parameter_dim=dataset['train']['parameters'].shape[1],\n",
    "    hidden_dim=cfg.nn_model.network.linear_hidden_dim,\n",
    "    bottleneck_dim=cfg.nn_model.network.n_latent,\n",
    "    activation=eval(cfg.nn_model.network.activation),\n",
    "    n_layers=cfg.nn_model.network.n_linear_layers,\n",
    "    params_to_decoder=cfg.nn_model.network.params_to_decoder,\n",
    ")\n",
    "\n",
    "# load model\n",
    "model.load_state_dict(torch.load(path_model_vae))\n",
    "model.eval()\n",
    "model.to(device)\n"
   ]
  },
  {
   "cell_type": "code",
   "execution_count": 8,
   "metadata": {},
   "outputs": [],
   "source": [
    "# define one model and loss evaluation\n",
    "def model_and_loss_evaluation(model, states, outputs, parameters, train=True, n_passes: int = 1, return_model_outputs: bool = False, active_dims = None):\n",
    "    # active_dims is a torch tensor of shape (n_latent) with boolean values\n",
    "    x, x_hat, states_hat, outputs_hat, mu, logvar, mu_hat, logvar_hat, normed_values = model(states, outputs, parameters, train=train, predict = False, n_passes=n_passes, active_dims=active_dims)\n",
    "    \n",
    "    loss, mse_loss, kl_loss, regressor_loss = loss_function(\n",
    "                normed_values['x'], normed_values['x_hat'], mu, mu_hat, \n",
    "                logvar, logvar_hat, \n",
    "                beta=cfg.nn_model.training.beta_start, \n",
    "                gamma=cfg.nn_model.training.gamma,\n",
    "                capacity= None,\n",
    "    )\n",
    "    ret_val = {\n",
    "        'loss': loss,\n",
    "        'mse_loss': mse_loss,\n",
    "        'kl_loss': kl_loss,\n",
    "        'regressor_loss': regressor_loss,\n",
    "        'populated_dims': count_populated_dimensions(mu, logvar, cfg.nn_model.training.count_populated_dimensions_threshold)[0]\n",
    "    }\n",
    "    if return_model_outputs:\n",
    "        # losses per dim\n",
    "        _, mse_loss_raw, kl_loss_raw, regressor_loss_raw = loss_function(\n",
    "                x, x_hat, mu, mu_hat, \n",
    "                logvar, logvar_hat, \n",
    "                beta=cfg.nn_model.training.beta_start, \n",
    "                gamma=cfg.nn_model.training.gamma,\n",
    "                capacity= None,\n",
    "                reduce=False\n",
    "                )   \n",
    "        model_outputs = {\n",
    "            'mse_loss_raw': mse_loss_raw,\n",
    "            'kl_loss_raw': kl_loss_raw,\n",
    "            'regressor_loss_raw': regressor_loss_raw,\n",
    "            'states_hat': states_hat,\n",
    "            'outputs_hat': outputs_hat,\n",
    "            'mu': mu,\n",
    "            'logvar': logvar,\n",
    "            'mu_hat': mu_hat,\n",
    "            'logvar_hat': logvar_hat,\n",
    "        }\n",
    "    if not train:\n",
    "        # call value.item() for each value in return_value\n",
    "        ret_val = dict({key: value.item() for key, value in ret_val.items()})\n",
    "        if return_model_outputs:\n",
    "            model_outputs = dict({key: value.cpu().detach().numpy() for key, value in model_outputs.items()})\n",
    "    return ret_val if not return_model_outputs else (ret_val, model_outputs)\n",
    "    \n",
    "def get_model_inputs(data_loader: torch.utils.data.DataLoader, data: dict = None):\n",
    "    if data_loader is None:\n",
    "        assert data is not None, 'Either data_loader or data must be not None'\n",
    "    else:\n",
    "        data = next(iter(data_loader))\n",
    "    # get data from data loader\n",
    "    states = data['states'].to(device)\n",
    "    outputs = data['outputs'].to(device)\n",
    "    parameters = data['parameters'].to(device)\n",
    "    return states, outputs, parameters\n",
    "\n",
    "def test_or_validate_one_epoch(model, _data_loader, n_passes: int = 1, all_batches: bool = False,\n",
    "                                return_model_outputs: bool = False, active_dims = None):\n",
    "    \n",
    "    model.eval()\n",
    "    # make sure that the data loader is not shuffled by initializing a new data loader\n",
    "    if all_batches:\n",
    "        data_loader = torch.utils.data.DataLoader(_data_loader.dataset, batch_size=_data_loader.batch_size, shuffle=False)\n",
    "    else:\n",
    "        data_loader = _data_loader\n",
    "    _ret_vals = []\n",
    "    _model_outputs = []\n",
    "    for step, data in enumerate(data_loader):\n",
    "        states, outputs, parameters = get_model_inputs(data_loader=None, data=data)\n",
    "        # forward\n",
    "        with torch.no_grad():\n",
    "            ret_vals, model_outputs = model_and_loss_evaluation(model, states, outputs, parameters, train=False, n_passes=n_passes, return_model_outputs=True, active_dims=active_dims)\n",
    "        _ret_vals.append(ret_vals)\n",
    "        _model_outputs.append(model_outputs)\n",
    "        if all_batches is False:\n",
    "            break\n",
    "    # average over all calls\n",
    "    if all_batches:\n",
    "        ret_vals = {}\n",
    "        for key in _ret_vals[0].keys():\n",
    "            ret_vals[key] = sum([_ret_val[key] for _ret_val in _ret_vals]) / len(_ret_vals)\n",
    "    else:\n",
    "        ret_vals = _ret_vals[0]\n",
    "    # make one tensor from all model outputs\n",
    "    if return_model_outputs:\n",
    "        model_outputs = {key: np.concatenate([_batch_output[key] for _batch_output in _model_outputs], axis=0) for key in _model_outputs[0].keys()}\n",
    "    return ret_vals if not return_model_outputs else (ret_vals, model_outputs)\n",
    "\n",
    "def append_context_to_dict_keys(dictionary: dict, context: str):\n",
    "    return dict({'{}_{}'.format(key, context): value for key, value in dictionary.items()})\n",
    "\n",
    "ret_vals_active_dims = []\n",
    "for dim_run in range(kl_test.shape[1]+1):\n",
    "    # make mask with active dims\n",
    "    active_dims = torch.zeros(kl_test.shape[1], dtype=torch.bool)\n",
    "    active_dims[ordered_dims[:dim_run]] = True\n",
    "\n",
    "    # add model outputs to dataset\n",
    "    for context, dataloader in zip(['common_test'], [common_test_loader]):\n",
    "        ret_vals, model_outputs = test_or_validate_one_epoch(model, dataloader, n_passes=cfg.nn_model.training.n_passes_test, all_batches=True, return_model_outputs=True, active_dims=active_dims)\n",
    "        ret_vals_active_dims.append(ret_vals)"
   ]
  },
  {
   "cell_type": "code",
   "execution_count": 9,
   "metadata": {},
   "outputs": [],
   "source": [
    "ret_vals_active_dims = pd.DataFrame(ret_vals_active_dims)\n",
    "if test_vae:\n",
    "    ret_vals_active_dims.to_csv('analysis/C03_Methods/data/clean_gull_718/artifacts/ret_vals_active_dims.csv')\n",
    "else:\n",
    "    ret_vals_active_dims.to_csv('analysis/C03_Methods/data/rare_moth_313/artifacts/ret_vals_active_dims.csv')"
   ]
  },
  {
   "cell_type": "code",
   "execution_count": 10,
   "metadata": {},
   "outputs": [
    {
     "name": "stdout",
     "output_type": "stream",
     "text": [
      "True\n"
     ]
    }
   ],
   "source": [
    "print(test_vae)"
   ]
  },
  {
   "cell_type": "code",
   "execution_count": 11,
   "metadata": {},
   "outputs": [
    {
     "data": {
      "text/html": [
       "<div>\n",
       "<style scoped>\n",
       "    .dataframe tbody tr th:only-of-type {\n",
       "        vertical-align: middle;\n",
       "    }\n",
       "\n",
       "    .dataframe tbody tr th {\n",
       "        vertical-align: top;\n",
       "    }\n",
       "\n",
       "    .dataframe thead th {\n",
       "        text-align: right;\n",
       "    }\n",
       "</style>\n",
       "<table border=\"1\" class=\"dataframe\">\n",
       "  <thead>\n",
       "    <tr style=\"text-align: right;\">\n",
       "      <th></th>\n",
       "      <th>loss</th>\n",
       "      <th>mse_loss</th>\n",
       "      <th>kl_loss</th>\n",
       "      <th>regressor_loss</th>\n",
       "      <th>populated_dims</th>\n",
       "    </tr>\n",
       "  </thead>\n",
       "  <tbody>\n",
       "    <tr>\n",
       "      <th>0</th>\n",
       "      <td>0.861725</td>\n",
       "      <td>0.846800</td>\n",
       "      <td>13.786067</td>\n",
       "      <td>0.001139</td>\n",
       "      <td>5.0</td>\n",
       "    </tr>\n",
       "    <tr>\n",
       "      <th>1</th>\n",
       "      <td>0.367240</td>\n",
       "      <td>0.352316</td>\n",
       "      <td>13.786067</td>\n",
       "      <td>0.001139</td>\n",
       "      <td>5.0</td>\n",
       "    </tr>\n",
       "    <tr>\n",
       "      <th>2</th>\n",
       "      <td>0.226983</td>\n",
       "      <td>0.212058</td>\n",
       "      <td>13.786067</td>\n",
       "      <td>0.001139</td>\n",
       "      <td>5.0</td>\n",
       "    </tr>\n",
       "    <tr>\n",
       "      <th>3</th>\n",
       "      <td>0.183194</td>\n",
       "      <td>0.168269</td>\n",
       "      <td>13.786067</td>\n",
       "      <td>0.001139</td>\n",
       "      <td>5.0</td>\n",
       "    </tr>\n",
       "    <tr>\n",
       "      <th>4</th>\n",
       "      <td>0.138693</td>\n",
       "      <td>0.123768</td>\n",
       "      <td>13.786067</td>\n",
       "      <td>0.001139</td>\n",
       "      <td>5.0</td>\n",
       "    </tr>\n",
       "  </tbody>\n",
       "</table>\n",
       "</div>"
      ],
      "text/plain": [
       "       loss  mse_loss    kl_loss  regressor_loss  populated_dims\n",
       "0  0.861725  0.846800  13.786067        0.001139             5.0\n",
       "1  0.367240  0.352316  13.786067        0.001139             5.0\n",
       "2  0.226983  0.212058  13.786067        0.001139             5.0\n",
       "3  0.183194  0.168269  13.786067        0.001139             5.0\n",
       "4  0.138693  0.123768  13.786067        0.001139             5.0"
      ]
     },
     "execution_count": 11,
     "metadata": {},
     "output_type": "execute_result"
    }
   ],
   "source": [
    "# load data\n",
    "if test_vae:\n",
    "    ret_vals_active_dims = pd.read_csv('analysis/C03_Methods/data/clean_gull_718/artifacts/ret_vals_active_dims.csv', index_col=0)\n",
    "else:\n",
    "    ret_vals_active_dims = pd.read_csv('analysis/C03_Methods/data/rare_moth_313/artifacts/ret_vals_active_dims.csv', index_col=0)\n",
    "# reverse order of index\n",
    "ret_vals_active_dims = ret_vals_active_dims.iloc[::-1]\n",
    "# initiate index new\n",
    "ret_vals_active_dims.index = np.arange(ret_vals_active_dims.shape[0])\n",
    "ret_vals_active_dims.head()"
   ]
  },
  {
   "cell_type": "code",
   "execution_count": 12,
   "metadata": {},
   "outputs": [
    {
     "data": {
      "text/plain": [
       "0    0.846800\n",
       "1    0.352316\n",
       "2    0.212058\n",
       "3    0.168269\n",
       "4    0.123768\n",
       "Name: mse_loss, dtype: float64"
      ]
     },
     "execution_count": 12,
     "metadata": {},
     "output_type": "execute_result"
    }
   ],
   "source": [
    "ret_vals_active_dims['mse_loss'][0:5]"
   ]
  },
  {
   "cell_type": "code",
   "execution_count": 26,
   "metadata": {},
   "outputs": [
    {
     "name": "stdout",
     "output_type": "stream",
     "text": [
      "finding path that contains \"code\", then going up one level to find \"LaTeX\"\n",
      "e:\\projects\\balanced_neural_odes_internal\\code\n",
      "e:\\projects\\balanced_neural_odes_internal\n",
      "E:\\projects\\balanced_neural_odes_internal\\LaTeX\\ICLR 2025 Template\\figures\\VAE\\active_dims_sweep_VAE.png\n",
      "E:\\projects\\balanced_neural_odes_internal\\LaTeX\\ICLR 2025 Template\\figures\\VAE\\active_dims_sweep_VAE.svg\n"
     ]
    },
    {
     "data": {
      "image/png": "[encoded data removed]",
      "text/plain": [
       "<Figure size 275.054x88 with 1 Axes>"
      ]
     },
     "metadata": {},
     "output_type": "display_data"
    }
   ],
   "source": [
    "# make plot\n",
    "fig, ax = plt.subplots(1,1, figsize=fig_size(0.88, n_figs_per_width=2), sharey=True, constrained_layout=True)\n",
    "ax = [ax]\n",
    "\n",
    "# plot with reversed order\n",
    "x = np.arange(0, kl_test.shape[1]+1)\n",
    "ax[0].step(x, ret_vals_active_dims['mse_loss'], label='MSE loss', color = '#E69F00', lw = 1.0, zorder = 1, where='post')\n",
    "\n",
    "def add_point(i, ax_i = 0, rotate = 20):\n",
    "    if i == 0:\n",
    "        i_x = 1\n",
    "    else:\n",
    "        i_x = i\n",
    "    # put a point at x = 5 with the value of the y axis\n",
    "    ax[ax_i].scatter(i_x, ret_vals_active_dims['mse_loss'][i], color = 'black', marker = 'o', s = 2)\n",
    "    # add text\n",
    "    _text = '{:.2f} @{}'.format(ret_vals_active_dims['mse_loss'][i],i)\n",
    "    ax[ax_i].text(i_x, ret_vals_active_dims['mse_loss'][i], _text, fontsize = 6, va = 'bottom', ha = 'left', rotation = rotate)\n",
    "\n",
    "add_point(0, rotate=0)\n",
    "add_point(1)\n",
    "add_point(2)\n",
    "add_point(3)\n",
    "add_point(5)\n",
    "# add_point(16)\n",
    "add_point(32)\n",
    "# add_point(64)\n",
    "add_point(128)\n",
    "# add_point(256)\n",
    "add_point(512)\n",
    "\n",
    "# set x axis to log scale\n",
    "ax[0].set_xscale('log')\n",
    "\n",
    "# # ax.set_xscale('log')\n",
    "# ax[1].plot(ret_vals_active_dims['mse_loss'][:20], label='MSE loss', color = 'black', lw = 1.0)\n",
    "# if test_vae is False:\n",
    "#     add_point(0, ax_i = 1)\n",
    "# add_point(5, ax_i = 1)\n",
    "# add_point(4, ax_i = 1)\n",
    "# add_point(3, ax_i = 1)\n",
    "# add_point(2, ax_i = 1)\n",
    "# add_point(1, ax_i = 1)\n",
    "# add_point(10, ax_i = 1)\n",
    "# add_point(17, ax_i = 1)\n",
    "\n",
    "# ax[1].set_xticks(np.arange(0,20,2))\n",
    "\n",
    "ax[0].set_ylabel('MSE')\n",
    "# ax[1].set_ylabel('MSE loss')\n",
    "ax[0].set_xlabel('\\# active latent dimensions')\n",
    "\n",
    "ax[0].set_ylim([0.0, 1.1])\n",
    "ax[0].set_xlim([0.8,512])\n",
    "\n",
    "# save figure\n",
    "if test_vae:\n",
    "    savefig(fig, get_paper_path('VAE', 'active_dims_sweep_VAE'))\n",
    "else:\n",
    "    savefig(fig, get_paper_path('VAE', 'active_dims_sweep_PELS_VAE'))"
   ]
  }
 ],
 "metadata": {
  "kernelspec": {
   "display_name": "th_ak",
   "language": "python",
   "name": "python3"
  },
  "language_info": {
   "codemirror_mode": {
    "name": "ipython",
    "version": 3
   },
   "file_extension": ".py",
   "mimetype": "text/x-python",
   "name": "python",
   "nbconvert_exporter": "python",
   "pygments_lexer": "ipython3",
   "version": "3.9.19"
  }
 },
 "nbformat": 4,
 "nbformat_minor": 2
}
