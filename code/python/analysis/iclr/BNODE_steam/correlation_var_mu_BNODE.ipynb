{
 "cells": [
  {
   "cell_type": "code",
   "execution_count": 2,
   "metadata": {},
   "outputs": [
    {
     "name": "stdout",
     "output_type": "stream",
     "text": [
      "The autoreload extension is already loaded. To reload it, use:\n",
      "  %reload_ext autoreload\n"
     ]
    }
   ],
   "source": [
    "%load_ext autoreload\n",
    "%autoreload 2\n",
    "import pandas as pd\n",
    "import numpy as np\n",
    "import h5py\n",
    "from pathlib import Path\n",
    "import os\n",
    "import sys\n",
    "sys.path.append(os.getcwd() + '/../..')\n",
    "sys.path.append(os.getcwd() + '/..')\n",
    "from filepaths import filepath_from_ml_artifacts_uri\n",
    "from analysis.iclr.plotting import settings, fig_size, cb_line_cycler, cb_line_cycler_solid, cb_marker_cycler, savefig\n",
    "from plot_hdf5_dataset import plot_dataset\n",
    "from iclr_paper_path import get_paper_path\n",
    "import matplotlib\n",
    "settings()\n",
    "import matplotlib.pyplot as plt\n",
    "\n",
    "# beta 0.01\n",
    "# path_dataset = filepath_from_ml_artifacts_uri('mlflow-artifacts:/829789035554334690/9e712d90248a4475b3bd7f1ff88f727e/artifacts/dataset.hdf5')\n",
    "# beta 0.1\n",
    "path_dataset = filepath_from_ml_artifacts_uri('mlflow-artifacts:/829789035554334690/d4ab1a5174054e12a8767e9c46d4827a/artifacts/dataset.hdf5')\n",
    "# beta 0.1 rrcos steam \n",
    "path_dataset = filepath_from_ml_artifacts_uri('mlflow-artifacts:/765349530991563084/b0b0669ff51c4ee5b05f203dc1d827c6/artifacts/dataset.hdf5')\n"
   ]
  },
  {
   "cell_type": "code",
   "execution_count": 3,
   "metadata": {},
   "outputs": [
    {
     "name": "stdout",
     "output_type": "stream",
     "text": [
      "<KeysViewHDF5 ['common_test', 'common_validation', 'controls_names', 'outputs_names', 'states_der_names', 'states_names', 'test', 'time', 'train', 'validation']>\n"
     ]
    }
   ],
   "source": [
    "dataset = h5py.File(path_dataset, 'r')\n",
    "print(dataset.keys())"
   ]
  },
  {
   "cell_type": "code",
   "execution_count": 4,
   "metadata": {},
   "outputs": [
    {
     "data": {
      "text/plain": [
       "<KeysViewHDF5 ['controls', 'kl_lat_controls', 'kl_lat_controls_per_dim', 'kl_lat_parameters', 'kl_lat_state_0', 'kl_lat_state_0_per_dim', 'kl_lat_states', 'kl_lat_states_per_dim', 'kl_loss', 'lat_controls_logvar', 'lat_controls_mu', 'lat_dim_controls_populated', 'lat_dim_parameters_populated', 'lat_dim_state_0_populated', 'lat_dim_states_populated', 'lat_state_0_logvar', 'lat_state_0_mu', 'lat_states_logvar', 'lat_states_mu', 'loss', 'ode_calls_forward', 'outputs', 'outputs_hat', 'reconstruction_loss', 'reconstruction_loss_outputs', 'reconstruction_loss_state_0', 'reconstruction_loss_states', 'rmse_outputs', 'rmse_state_0', 'rmse_states', 'states', 'states_der', 'states_hat', 'time_odeint', 'time_outputs']>"
      ]
     },
     "execution_count": 4,
     "metadata": {},
     "output_type": "execute_result"
    }
   ],
   "source": [
    "dataset['common_test'].keys()"
   ]
  },
  {
   "cell_type": "code",
   "execution_count": 5,
   "metadata": {},
   "outputs": [
    {
     "name": "stdout",
     "output_type": "stream",
     "text": [
      "[  3  76  25  93  98  64  94  17  53 117  68 122  61 107  86  52 124  24\n",
      "   1  22  16  73  37  96  26  81  28  31  15 114  97  92  21   9 104  69\n",
      "  47  90  14  41 120  65  56  66  19  95  48  45 112  99 110  34  62  36\n",
      "  59 103  89  11 119  29  18 102  87  70  63  83  23  54  75   6  27  35\n",
      " 118   2  80  71 105 115   5 100 101   7 116 127  10 125  60 113  55 106\n",
      "  40  88  30 111  50   0  85   8 126  46  33  43  72  84  38  79  74  44\n",
      "  91  77  20 109  82  13  58  67  39   4  51  12 123  42 121  49  78 108\n",
      "  57  32]\n",
      "[3.91411638e+00 3.02035022e+00 1.59468567e+00 9.42948818e-01\n",
      " 7.11627126e-01 3.41704875e-01 8.40433165e-02 7.93079585e-02\n",
      " 7.73275942e-02 6.51898682e-02 6.01237416e-02 5.68378232e-02\n",
      " 4.01309989e-02 3.81848887e-02 3.71413827e-02 3.43841091e-02\n",
      " 3.41996253e-02 3.25598456e-02 3.16532813e-02 2.87764613e-02\n",
      " 2.84206327e-02 2.77310219e-02 2.52956282e-02 2.46995986e-02\n",
      " 2.43998226e-02 2.21301876e-02 2.02839971e-02 1.96547899e-02\n",
      " 1.93637647e-02 1.77368633e-02 1.70634296e-02 1.65702309e-02\n",
      " 1.60234533e-02 1.59032810e-02 1.52042685e-02 1.51853822e-02\n",
      " 1.48284445e-02 1.47929899e-02 1.44741498e-02 1.36865573e-02\n",
      " 1.36557650e-02 1.29035944e-02 1.28333513e-02 1.27212591e-02\n",
      " 1.24628777e-02 1.23909162e-02 1.22589637e-02 1.18192090e-02\n",
      " 1.12165762e-02 1.11914948e-02 1.11135673e-02 1.09410398e-02\n",
      " 1.09346677e-02 1.07914638e-02 1.05314758e-02 1.04471240e-02\n",
      " 1.04451925e-02 1.01368511e-02 9.88392718e-03 9.65153147e-03\n",
      " 9.65115335e-03 9.61308181e-03 9.60324612e-03 9.50252917e-03\n",
      " 9.19763558e-03 9.16581322e-03 9.15763993e-03 9.13695060e-03\n",
      " 8.90089385e-03 8.82202107e-03 8.31253733e-03 8.25816207e-03\n",
      " 8.15326255e-03 8.07855465e-03 7.97530729e-03 7.94973131e-03\n",
      " 7.64078647e-03 7.04800617e-03 7.04701524e-03 6.96439110e-03\n",
      " 6.88340655e-03 6.87972363e-03 6.78944308e-03 6.58473279e-03\n",
      " 6.52341684e-03 6.50121085e-03 6.49991725e-03 6.33466896e-03\n",
      " 6.22291118e-03 6.16066344e-03 6.12746924e-03 6.10813545e-03\n",
      " 6.09317934e-03 5.86722698e-03 5.86515479e-03 5.68525400e-03\n",
      " 5.66556538e-03 5.56679117e-03 5.30843437e-03 5.06746117e-03\n",
      " 4.88006882e-03 4.85262647e-03 4.62448783e-03 4.59489226e-03\n",
      " 4.51943558e-03 4.36824746e-03 4.30209422e-03 4.28405777e-03\n",
      " 4.26127622e-03 4.19575674e-03 4.09410568e-03 3.81516339e-03\n",
      " 3.78278969e-03 3.68830794e-03 3.57781630e-03 3.57221882e-03\n",
      " 3.55105288e-03 3.53724509e-03 3.42426845e-03 3.42323468e-03\n",
      " 3.39026214e-03 3.18996469e-03 2.85040378e-03 2.33308156e-03\n",
      " 2.30226642e-03 2.12201616e-03 2.09537894e-03 2.01487681e-03]\n"
     ]
    }
   ],
   "source": [
    "dataset_type = 'common_test'\n",
    "# kl_lat_state_0_per_dim = dataset[dataset_type]['kl_lat_state_0_per_dim'][:]\n",
    "lat_states_mu = dataset[dataset_type]['lat_states_mu'][:]\n",
    "lat_states_sigma = dataset[dataset_type]['lat_states_logvar'][:]\n",
    "kl_lat_states = dataset[dataset_type]['kl_lat_states_per_dim'][:]\n",
    "# states = dataset[dataset_type]['states'][:]\n",
    "# states_hat = dataset[dataset_type]['states_hat'][:]\n",
    "# time = dataset['time'][:]\n",
    "\n",
    "# convert logvar to sigma\n",
    "lat_states_sigma = np.exp(lat_states_sigma / 2)\n",
    "\n",
    "# get populated states\n",
    "kl_mean = np.mean(kl_lat_states, axis=(0,2))\n",
    "# get idx for sorting\n",
    "kl_mean_idx = np.flip(np.argsort(kl_mean))\n",
    "print(kl_mean_idx)\n",
    "print(kl_mean[kl_mean_idx])"
   ]
  },
  {
   "cell_type": "code",
   "execution_count": 6,
   "metadata": {},
   "outputs": [
    {
     "name": "stdout",
     "output_type": "stream",
     "text": [
      "0.03632979281246662\n",
      "0.06088425870984793\n",
      "0.04286563489586115\n",
      "0.09411689266562462\n",
      "0.1334310956299305\n",
      "0.3500000536441803\n",
      "finding path that contains \"code\", then going up one level to find \"LaTeX\"\n",
      "e:\\projects\\balanced_neural_odes_internal\\code\\python\\analysis\\iclr\n",
      "e:\\projects\\balanced_neural_odes_internal\\code\\python\\analysis\n",
      "e:\\projects\\balanced_neural_odes_internal\\code\\python\n",
      "e:\\projects\\balanced_neural_odes_internal\\code\n",
      "e:\\projects\\balanced_neural_odes_internal\n",
      "E:\\projects\\balanced_neural_odes_internal\\LaTeX\\ICLR 2025 Template\\figures\\BNODE\\sigma_mu_hist.png\n",
      "E:\\projects\\balanced_neural_odes_internal\\LaTeX\\ICLR 2025 Template\\figures\\BNODE\\sigma_mu_hist.svg\n"
     ]
    },
    {
     "data": {
      "image/png": "[encoded data removed]",
      "text/plain": [
       "<Figure size 275.054x250 with 6 Axes>"
      ]
     },
     "metadata": {},
     "output_type": "display_data"
    }
   ],
   "source": [
    "n_first_states = 3\n",
    "\n",
    "fig, ax = plt.subplots(2, n_first_states, sharex=True, figsize=fig_size(2.5, n_figs_per_width=2), gridspec_kw={'height_ratios': [0.15, 1]})\n",
    "plt.subplots_adjust(wspace=0.1, hspace=0.2)\n",
    "\n",
    "_min_sigma = 100\n",
    "_max_sigma = -100\n",
    "mu_min = -3\n",
    "mu_max = 3\n",
    "\n",
    "for ax_idx in range(0,n_first_states):\n",
    "    n_most_populated = ax_idx\n",
    "    bins_mu = np.linspace(mu_min, mu_max, 100)\n",
    "    # get histogram of mu\n",
    "    mu_reshaped = lat_states_mu[:,kl_mean_idx[n_most_populated],:].reshape((-1))\n",
    "    sigma_reshaped = lat_states_sigma[:,kl_mean_idx[n_most_populated],:].reshape((-1))\n",
    "    ax[0,ax_idx].hist(mu_reshaped, bins = bins_mu, alpha=0.5, label='mu', color='b', density=True)\n",
    "    # ax.hist(sigma_reshaped, bins=100, alpha=0.5, label='sigma', color='r')\n",
    "\n",
    "    # assign state idx to bins \n",
    "    state_in_bin_idx = np.digitize(mu_reshaped, bins_mu)\n",
    "\n",
    "    sigma_bin = []\n",
    "    sigma_bin_mean = []\n",
    "    sigma_bin_std = []\n",
    "    sigma_bin_25 = []\n",
    "    sigma_bin_75 = []\n",
    "    sigma_bin_50 = []\n",
    "\n",
    "    for i, bin in enumerate(bins_mu):\n",
    "        idx = np.where(state_in_bin_idx == i)\n",
    "        _sigmas_in_bin = sigma_reshaped[idx]\n",
    "        sigma_bin.append(_sigmas_in_bin)\n",
    "        if _sigmas_in_bin.size < 100:\n",
    "            sigma_bin_mean.append(float('nan'))\n",
    "            sigma_bin_std.append(float('nan'))\n",
    "            sigma_bin_25.append(float('nan'))\n",
    "            sigma_bin_75.append(float('nan'))\n",
    "            sigma_bin_50.append(float('nan'))\n",
    "        else:\n",
    "            sigma_bin_mean.append(np.mean(_sigmas_in_bin))\n",
    "            sigma_bin_std.append(np.std(_sigmas_in_bin))\n",
    "            sigma_bin_25.append(np.percentile(_sigmas_in_bin, 25))\n",
    "            sigma_bin_75.append(np.percentile(_sigmas_in_bin, 75))\n",
    "            sigma_bin_50.append(np.percentile(_sigmas_in_bin, 50))\n",
    "\n",
    "    ax[1,ax_idx].plot(bins_mu, sigma_bin_50, label='median', color='b', linewidth=1.0)\n",
    "    ax[1,ax_idx].fill_between(bins_mu, sigma_bin_25, sigma_bin_75, alpha=0.5, label='25-75\\%', color='r')\n",
    "    # ax[1,ax_idx].set_xlim([-2, 2])\n",
    "    ax[1,ax_idx].set_xlabel(r'$\\mu(\\mathbf{x}_{' +str(kl_mean_idx[n_most_populated]) + '}^z)$')\n",
    "    if ax_idx > 0:\n",
    "        ax[1,ax_idx].set_yticklabels([])\n",
    "        ax[0,ax_idx].set_yticklabels([])\n",
    "\n",
    "    _min_sigma = min(_min_sigma, np.nanmin(sigma_bin_25))\n",
    "    print(np.nanmin(sigma_bin_25))\n",
    "    _max_sigma = max(_max_sigma, np.nanmax(sigma_bin_75))\n",
    "    print(np.nanmax(sigma_bin_75))\n",
    "\n",
    "    # ax[0,ax_idx].set_title(r'\\noindent Latent state \\\\' + str(kl_mean_idx[n_most_populated]) + r' $\\mu(\\mathbf{x}^z)$')\n",
    "    ax[0,ax_idx].set_title(r'$\\mu(\\mathbf{x}_{' +str(kl_mean_idx[n_most_populated]) + '}^z)$')\n",
    "\n",
    "ax[0,0].set_ylabel('Density')\n",
    "ax[1,0].set_ylabel(r'$\\sigma(\\mathbf{x}_i^z)$', fontsize=7)\n",
    "\n",
    "ax[1,0].legend(fontsize=6)\n",
    "\n",
    "\n",
    "for i in range(0,n_first_states):\n",
    "    # set y-axis limits\n",
    "    ax[1,i].set_ylim([_min_sigma, _max_sigma])\n",
    "\n",
    "savefig(fig, get_paper_path('BNODE', 'sigma_mu_hist'))\n",
    "    "
   ]
  }
 ],
 "metadata": {
  "kernelspec": {
   "display_name": "th_ak",
   "language": "python",
   "name": "python3"
  },
  "language_info": {
   "codemirror_mode": {
    "name": "ipython",
    "version": 3
   },
   "file_extension": ".py",
   "mimetype": "text/x-python",
   "name": "python",
   "nbconvert_exporter": "python",
   "pygments_lexer": "ipython3",
   "version": "3.9.19"
  }
 },
 "nbformat": 4,
 "nbformat_minor": 2
}
