{
 "cells": [
  {
   "cell_type": "code",
   "execution_count": 26,
   "metadata": {},
   "outputs": [
    {
     "name": "stdout",
     "output_type": "stream",
     "text": [
      "The autoreload extension is already loaded. To reload it, use:\n",
      "  %reload_ext autoreload\n"
     ]
    }
   ],
   "source": [
    "%load_ext autoreload\n",
    "%autoreload 2\n",
    "import pandas as pd\n",
    "import numpy as np\n",
    "import h5py\n",
    "from pathlib import Path\n",
    "import os\n",
    "import sys\n",
    "sys.path.append(os.getcwd() + '/../..')\n",
    "sys.path.append(os.getcwd() + '/..')\n",
    "from filepaths import filepath_from_ml_artifacts_uri\n",
    "from analysis.iclr.plotting import settings, fig_size, cb_line_cycler, cb_line_cycler_solid, cb_marker_cycler, savefig\n",
    "from plot_hdf5_dataset import plot_dataset\n",
    "from iclr_paper_path import get_paper_path\n",
    "import matplotlib\n",
    "settings()\n",
    "import matplotlib.pyplot as plt\n",
    "\n",
    "# beta 0.01\n",
    "# path_dataset = filepath_from_ml_artifacts_uri('mlflow-artifacts:/829789035554334690/9e712d90248a4475b3bd7f1ff88f727e/artifacts/dataset.hdf5')\n",
    "# beta 0.1 step\n",
    "# path_dataset = filepath_from_ml_artifacts_uri('mlflow-artifacts:/799837826878041253/2f043616847c44edabb374d9df9a8838/artifacts/dataset.hdf5')\n",
    "# beta 0.1 rrocs\n",
    "# path_dataset = filepath_from_ml_artifacts_uri('mlflow-artifacts:/829789035554334690/d4ab1a5174054e12a8767e9c46d4827a/artifacts/dataset.hdf5')\n",
    "# beta 0.1 rrcos steam \n",
    "# path_dataset = filepath_from_ml_artifacts_uri('mlflow-artifacts:/765349530991563084/b0b0669ff51c4ee5b05f203dc1d827c6/artifacts/dataset.hdf5')\n",
    "# beta 0.1 step steam\n",
    "path_dataset = filepath_from_ml_artifacts_uri('mlflow-artifacts:/807883014196875487/bd5f2795d5b148f6aa7ac8e6c100a78a/artifacts/dataset.hdf5')\n",
    "# beta 0.1 step steam wo reparam\n",
    "path_dataset = filepath_from_ml_artifacts_uri('mlflow-artifacts:/807883014196875487/a328c8f3946e4c1c8dc024fdafaac62f/artifacts/dataset.hdf5')"
   ]
  },
  {
   "cell_type": "code",
   "execution_count": 27,
   "metadata": {},
   "outputs": [
    {
     "name": "stdout",
     "output_type": "stream",
     "text": [
      "<KeysViewHDF5 ['common_test', 'common_validation', 'controls_names', 'outputs_names', 'states_der_names', 'states_names', 'test', 'time', 'train', 'validation']>\n"
     ]
    }
   ],
   "source": [
    "dataset = h5py.File(path_dataset, 'r')\n",
    "print(dataset.keys())"
   ]
  },
  {
   "cell_type": "code",
   "execution_count": 28,
   "metadata": {},
   "outputs": [
    {
     "data": {
      "text/plain": [
       "<KeysViewHDF5 ['controls', 'kl_lat_controls', 'kl_lat_controls_per_dim', 'kl_lat_parameters', 'kl_lat_state_0', 'kl_lat_state_0_per_dim', 'kl_lat_states', 'kl_lat_states_per_dim', 'kl_loss', 'lat_controls_logvar', 'lat_controls_mu', 'lat_dim_controls_populated', 'lat_dim_parameters_populated', 'lat_dim_state_0_populated', 'lat_dim_states_populated', 'lat_state_0_logvar', 'lat_state_0_mu', 'lat_states_logvar', 'lat_states_mu', 'loss', 'ode_calls_forward', 'outputs', 'outputs_hat', 'reconstruction_loss', 'reconstruction_loss_outputs', 'reconstruction_loss_state_0', 'reconstruction_loss_states', 'rmse_outputs', 'rmse_state_0', 'rmse_states', 'states', 'states_der', 'states_hat', 'time_odeint', 'time_outputs']>"
      ]
     },
     "execution_count": 28,
     "metadata": {},
     "output_type": "execute_result"
    }
   ],
   "source": [
    "dataset['common_test'].keys()"
   ]
  },
  {
   "cell_type": "code",
   "execution_count": 29,
   "metadata": {},
   "outputs": [
    {
     "name": "stdout",
     "output_type": "stream",
     "text": [
      "[  3  76  93  98  25  64  53  94  17  68 117 122  61  16 124  41  86  52\n",
      "   1  24 107  73  37  22  65  96  15  81  11 114 104   9  29  30  90  28\n",
      " 120  21  26  47  95  59  66  56  71  92  97  69  45  31  19  36   6  75\n",
      " 102 119  14  80   2  27 103  34  46  62  23 112 118  48  89  63 116  87\n",
      "  70  83  51  99  85  10  35  54   7 123 105  77 100 101  40   5  13  55\n",
      "   8 115  67  60  20  57 110 106  88  79  43 111  44 126  18   4   0  91\n",
      "  49  72 113 125  38  84  50 127  39  32  33  42 109  82  74  78 108  58\n",
      " 121  12]\n",
      "[4.16719103e+00 2.71470952e+00 1.33331835e+00 1.26402414e+00\n",
      " 1.23483753e+00 2.20522463e-01 1.03192240e-01 9.13732052e-02\n",
      " 8.58076140e-02 7.45784938e-02 6.44266084e-02 5.87768704e-02\n",
      " 5.08395620e-02 4.16841172e-02 4.05642726e-02 3.73281762e-02\n",
      " 3.72547545e-02 3.54990959e-02 3.47159430e-02 3.44356336e-02\n",
      " 3.25095803e-02 3.11879441e-02 2.98601389e-02 2.77619753e-02\n",
      " 2.74558291e-02 2.48021781e-02 2.47976705e-02 2.24278420e-02\n",
      " 2.14963723e-02 2.07474269e-02 2.07460672e-02 2.05363277e-02\n",
      " 2.04648711e-02 2.01091226e-02 1.96421221e-02 1.95352938e-02\n",
      " 1.95007585e-02 1.90087426e-02 1.89498011e-02 1.84605848e-02\n",
      " 1.84033178e-02 1.82432793e-02 1.79775283e-02 1.73578467e-02\n",
      " 1.71938762e-02 1.70691591e-02 1.65892169e-02 1.62248369e-02\n",
      " 1.59632675e-02 1.58592053e-02 1.54371588e-02 1.53531209e-02\n",
      " 1.51437791e-02 1.51176415e-02 1.49095440e-02 1.46849016e-02\n",
      " 1.44121889e-02 1.39766634e-02 1.38915358e-02 1.38708502e-02\n",
      " 1.38149662e-02 1.35989180e-02 1.33089311e-02 1.32990647e-02\n",
      " 1.32875089e-02 1.31756235e-02 1.31443618e-02 1.27794836e-02\n",
      " 1.21304803e-02 1.19716674e-02 1.17885033e-02 1.15238195e-02\n",
      " 1.14713171e-02 1.14088831e-02 1.13104871e-02 1.10367350e-02\n",
      " 1.06599424e-02 1.01705631e-02 1.00609018e-02 1.00591825e-02\n",
      " 9.83896945e-03 9.53129679e-03 9.53013171e-03 9.37451422e-03\n",
      " 8.86090938e-03 8.53195880e-03 8.45120102e-03 8.42881948e-03\n",
      " 8.27660784e-03 8.12602695e-03 8.07648804e-03 8.03790987e-03\n",
      " 8.03157222e-03 8.00796226e-03 7.57073471e-03 7.49545125e-03\n",
      " 7.40891183e-03 7.31339538e-03 7.12145027e-03 6.99852454e-03\n",
      " 6.89978572e-03 6.85691647e-03 6.68860227e-03 6.65282505e-03\n",
      " 6.57360256e-03 6.55137934e-03 6.54749339e-03 6.48196088e-03\n",
      " 6.22548629e-03 6.08057342e-03 6.03460381e-03 5.78589644e-03\n",
      " 5.76934684e-03 5.76778362e-03 5.56296948e-03 5.29719004e-03\n",
      " 5.25389099e-03 5.17955469e-03 4.92290547e-03 4.83605359e-03\n",
      " 4.79946984e-03 4.77249734e-03 4.68211481e-03 4.35263384e-03\n",
      " 4.29122616e-03 3.84590426e-03 3.72315617e-03 2.90929293e-03]\n"
     ]
    }
   ],
   "source": [
    "dataset_type = 'common_test'\n",
    "# kl_lat_state_0_per_dim = dataset[dataset_type]['kl_lat_state_0_per_dim'][:]\n",
    "lat_states_mu = dataset[dataset_type]['lat_states_mu'][:]\n",
    "lat_states_logvar = dataset[dataset_type]['lat_states_logvar'][:]\n",
    "\n",
    "kl_lat_states = dataset[dataset_type]['kl_lat_states_per_dim'][:]\n",
    "# states = dataset[dataset_type]['states'][:]\n",
    "# states_hat = dataset[dataset_type]['states_hat'][:]\n",
    "time = dataset['time'][:]\n",
    "\n",
    "# convert logvar to sigma\n",
    "lat_states_sigma = np.exp(lat_states_logvar / 2)\n",
    "\n",
    "# get populated states\n",
    "kl_mean = np.mean(kl_lat_states, axis=(0,2))\n",
    "# get idx for sorting\n",
    "kl_mean_idx = np.flip(np.argsort(kl_mean))\n",
    "print(kl_mean_idx)\n",
    "print(kl_mean[kl_mean_idx])"
   ]
  },
  {
   "cell_type": "code",
   "execution_count": 30,
   "metadata": {},
   "outputs": [
    {
     "name": "stdout",
     "output_type": "stream",
     "text": [
      "finding path that contains \"code\", then going up one level to find \"LaTeX\"\n",
      "e:\\projects\\balanced_neural_odes_internal\\code\\python\\analysis\\iclr\n",
      "e:\\projects\\balanced_neural_odes_internal\\code\\python\\analysis\n",
      "e:\\projects\\balanced_neural_odes_internal\\code\\python\n",
      "e:\\projects\\balanced_neural_odes_internal\\code\n",
      "e:\\projects\\balanced_neural_odes_internal\n",
      "E:\\projects\\balanced_neural_odes_internal\\LaTeX\\ICLR 2025 Template\\figures\\BNODE_steam\\mu_sigma_traj.png\n",
      "E:\\projects\\balanced_neural_odes_internal\\LaTeX\\ICLR 2025 Template\\figures\\BNODE_steam\\mu_sigma_traj.svg\n"
     ]
    },
    {
     "data": {
      "image/png": "[encoded data removed]",
      "text/plain": [
       "<Figure size 183.369x120 with 5 Axes>"
      ]
     },
     "metadata": {},
     "output_type": "display_data"
    }
   ],
   "source": [
    "n_first_states = 5\n",
    "sample_idx = 5\n",
    "\n",
    "fig, ax = plt.subplots(n_first_states,1 , sharex=True, figsize=fig_size(1.2, n_figs_per_width=3)) \n",
    "plt.subplots_adjust(wspace=0.1, hspace=0.1)\n",
    "\n",
    "# set marker cycler\n",
    "# ax.set_prop_cycle(cb_marker_cycler)\n",
    "\n",
    "# kl_mean_idx[n_most_populated]\n",
    "\n",
    "for ax_idx in range(0,n_first_states):\n",
    "    ax[ax_idx].set_prop_cycle(cb_line_cycler_solid)\n",
    "    idx = kl_mean_idx[ax_idx]\n",
    "    ax[ax_idx].plot(time, lat_states_mu[sample_idx,idx, :], label=r'$\\mu(\\mathbf{x}^z_{'+str(idx)+ r'}(t))$', linewidth=0.2, color='black')\n",
    "    ax[ax_idx].fill_between(time,\n",
    "                            lat_states_mu[sample_idx,idx, :] - lat_states_sigma[sample_idx,idx, :], \n",
    "                            lat_states_mu[sample_idx,idx, :] + lat_states_sigma[sample_idx,idx, :], alpha=0.3, edgecolor='none')\n",
    "    # ax[ax_idx].set_ylabel(r'$\\mathbf{x}^z_{'+str(idx)+'}(t)$')\n",
    "    # ax[ax_idx].set_ylim([-2, 2])\n",
    "    # ax[ax_idx].legend(frameon=False, loc='upper right', fontsize=6)\n",
    "    # ax[ax_idx].set_title(r'$\\mathbf{x}^z_{'+str(idx)+'}(t)$', fontsize=5, pad = 1.5)\n",
    "    # ax[ax_idx].set_ylim([-2,2])\n",
    "ax[-1].set_xlabel('Time [s]')\n",
    "# ax[-1].set_xlim(min(time), 1.5)\n",
    "ax[0].set_title(r'$\\mathbf{\\mu}(\\mathbf{x}^z_i(t))\\pm \\mathbf{\\sigma}(\\mathbf{x}^z_i(t))$', fontsize=8)\n",
    "\n",
    "\n",
    "savefig(fig, get_paper_path('BNODE_steam', 'mu_sigma_traj'), dpi=600)\n",
    "    "
   ]
  },
  {
   "cell_type": "code",
   "execution_count": 7,
   "metadata": {},
   "outputs": [
    {
     "data": {
      "image/png": "[encoded data removed]",
      "text/plain": [
       "<Figure size 550.107x300 with 10 Axes>"
      ]
     },
     "metadata": {},
     "output_type": "display_data"
    }
   ],
   "source": [
    "n_first_states = 5\n",
    "sample_idx = 5\n",
    "\n",
    "fig, ax = plt.subplots(2,n_first_states , sharex=True, figsize=fig_size(3, n_figs_per_width=1)) \n",
    "plt.subplots_adjust(wspace=0.1, hspace=0.5)\n",
    "\n",
    "# set marker cycler\n",
    "# ax.set_prop_cycle(cb_marker_cycler)\n",
    "\n",
    "# kl_mean_idx[n_most_populated]\n",
    "\n",
    "for ax_idx in range(0,n_first_states):\n",
    "    ax[0,ax_idx].set_prop_cycle(cb_line_cycler_solid)\n",
    "    idx = kl_mean_idx[ax_idx]\n",
    "    ax[0,ax_idx].plot(time, lat_states_mu[sample_idx, idx, :], label=r'$\\mu(\\mathbf{x}^z_{'+str(idx)+ r'}(t))$', linewidth=0.2, color='black')\n",
    "    ax[1,ax_idx].plot(time, lat_states_sigma[sample_idx, idx, :], label=r'$\\sigma(\\mathbf{x}^z_{'+str(idx)+ r'}(t))$', linewidth=0.2, color='black')\n",
    "    # ax[ax_idx].set_ylabel(r'$\\mathbf{x}^z_{'+str(idx)+'}(t)$')\n",
    "    ax[0,ax_idx].set_ylim([-4, 4])\n",
    "    # ax[ax_idx].legend(frameon=False, loc='upper right', fontsize=6)\n",
    "    # ax[0,ax_idx].set_title(r'$\\mathbf{x}^z_{'+str(idx)+'}(t)$', fontsize=6, pad = 3)\n",
    "    # ax[0,ax_idx].set_ylim([-2,2])\n",
    "# ax[-1].set_xlabel('Time [s]')\n",
    "# ax[-1].set_xlim(min(time), 1.5)\n",
    "\n",
    "\n",
    "# savefig(fig, get_paper_path('BNODE', 'mu_sigma_traj'), dpi=600)\n",
    "    "
   ]
  }
 ],
 "metadata": {
  "kernelspec": {
   "display_name": "th_ak",
   "language": "python",
   "name": "python3"
  },
  "language_info": {
   "codemirror_mode": {
    "name": "ipython",
    "version": 3
   },
   "file_extension": ".py",
   "mimetype": "text/x-python",
   "name": "python",
   "nbconvert_exporter": "python",
   "pygments_lexer": "ipython3",
   "version": "3.9.19"
  }
 },
 "nbformat": 4,
 "nbformat_minor": 2
}
