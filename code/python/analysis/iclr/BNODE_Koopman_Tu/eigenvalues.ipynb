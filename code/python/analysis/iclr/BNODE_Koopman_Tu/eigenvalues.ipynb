{
 "cells": [
  {
   "cell_type": "code",
   "execution_count": 41,
   "metadata": {},
   "outputs": [
    {
     "name": "stdout",
     "output_type": "stream",
     "text": [
      "The autoreload extension is already loaded. To reload it, use:\n",
      "  %reload_ext autoreload\n"
     ]
    }
   ],
   "source": [
    "%load_ext autoreload\n",
    "%autoreload 2\n",
    "import pandas as pd\n",
    "import numpy as np\n",
    "import h5py\n",
    "from pathlib import Path\n",
    "import os\n",
    "import sys\n",
    "sys.path.append(os.getcwd() + '/../..')\n",
    "sys.path.append(os.getcwd() + '/..')\n",
    "from filepaths import filepath_from_ml_artifacts_uri\n",
    "from analysis.iclr.plotting import settings, fig_size, cb_line_cycler, cb_line_cycler_solid, cb_marker_cycler, savefig\n",
    "from plot_hdf5_dataset import plot_dataset\n",
    "from iclr_paper_path import get_paper_path\n",
    "import matplotlib\n",
    "settings()\n",
    "import matplotlib.pyplot as plt\n",
    "import torch\n",
    "\n",
    "# beta 0.01\n",
    "path_checkpoint = filepath_from_ml_artifacts_uri('mlflow-artifacts:/740531114115696803/4e718c15879e4e5e912650abe4005887/artifacts/model_phase_3.pt')\n",
    "path_dataset = filepath_from_ml_artifacts_uri('mlflow-artifacts:/740531114115696803/4e718c15879e4e5e912650abe4005887/artifacts/dataset.hdf5')\n",
    "\n",
    "# # beta 0.005\n",
    "# path_checkpoint = filepath_from_ml_artifacts_uri('mlflow-artifacts:/740531114115696803/1405f872678b436cb88934f02341a818/artifacts/model_phase_3.pt')\n",
    "# path_dataset = filepath_from_ml_artifacts_uri('mlflow-artifacts:/740531114115696803/1405f872678b436cb88934f02341a818/artifacts/dataset.hdf5')"
   ]
  },
  {
   "cell_type": "code",
   "execution_count": 42,
   "metadata": {},
   "outputs": [
    {
     "data": {
      "text/plain": [
       "<KeysViewHDF5 ['kl_lat_controls', 'kl_lat_parameters', 'kl_lat_state_0', 'kl_lat_state_0_per_dim', 'kl_lat_states', 'kl_lat_states_per_dim', 'kl_loss', 'lat_dim_controls_populated', 'lat_dim_parameters_populated', 'lat_dim_state_0_populated', 'lat_dim_states_populated', 'lat_state_0_logvar', 'lat_state_0_mu', 'lat_states_mu', 'loss', 'ode_calls_forward', 'parameters', 'reconstruction_loss', 'reconstruction_loss_outputs', 'reconstruction_loss_state_0', 'reconstruction_loss_states', 'rmse_outputs', 'rmse_state_0', 'rmse_states', 'states', 'states_der', 'states_hat', 'time_odeint', 'time_outputs']>"
      ]
     },
     "execution_count": 42,
     "metadata": {},
     "output_type": "execute_result"
    }
   ],
   "source": [
    "dataset = h5py.File(path_dataset, 'r')\n",
    "dataset['common_test'].keys()"
   ]
  },
  {
   "cell_type": "code",
   "execution_count": 43,
   "metadata": {},
   "outputs": [
    {
     "name": "stdout",
     "output_type": "stream",
     "text": [
      "0.003112219779648322\n",
      "0.04122418407655568\n"
     ]
    }
   ],
   "source": [
    "# calculate the mean of states and the reconstruction NRMSE\n",
    "x_norm = dataset['train']['states'][:].max(axis=(0, 2)) - dataset['train']['states'][:].min(axis=(0, 2))\n",
    "# x_norm = dataset['train']['states'][:].std(axis=(0, 2))\n",
    "x_res = dataset['common_test']['states_hat'][:] - dataset['common_test']['states'][:]\n",
    "error_norm = np.divide(x_res, np.expand_dims(x_norm, (0, 2)))\n",
    "\n",
    "NRMSE = np.sqrt(np.mean(np.square(error_norm)))\n",
    "max = np.max(np.abs(error_norm))\n",
    "print(NRMSE)\n",
    "print(max)"
   ]
  },
  {
   "cell_type": "code",
   "execution_count": 44,
   "metadata": {},
   "outputs": [
    {
     "data": {
      "text/plain": [
       "array([-0.3187867 , 83.88230122])"
      ]
     },
     "execution_count": 44,
     "metadata": {},
     "output_type": "execute_result"
    }
   ],
   "source": [
    "x_mean"
   ]
  },
  {
   "cell_type": "code",
   "execution_count": 45,
   "metadata": {},
   "outputs": [
    {
     "data": {
      "text/plain": [
       "array([-17.081585, -16.270788, -15.486108, -14.722185, -14.003103,\n",
       "       -13.327239, -12.68857 , -12.073063, -11.480034, -10.92441 ],\n",
       "      dtype=float32)"
      ]
     },
     "execution_count": 45,
     "metadata": {},
     "output_type": "execute_result"
    }
   ],
   "source": [
    "dataset['common_test']['states_hat'][0, 0, :10]"
   ]
  },
  {
   "cell_type": "code",
   "execution_count": 46,
   "metadata": {},
   "outputs": [
    {
     "name": "stdout",
     "output_type": "stream",
     "text": [
      "[ 9 49 56]\n"
     ]
    },
    {
     "data": {
      "image/png": "[encoded data removed]",
      "text/plain": [
       "<Figure size 400x100 with 1 Axes>"
      ]
     },
     "metadata": {},
     "output_type": "display_data"
    }
   ],
   "source": [
    "kl_mean = np.mean(dataset['common_test']['kl_lat_states_per_dim'], axis=(0,2))\n",
    "# plot simple histogram of KL divergence\n",
    "plt.figure(figsize=(4,1))\n",
    "plt.hist(kl_mean, bins=20)\n",
    "plt.xlabel('KL divergence')\n",
    "idx_active = np.where(kl_mean > 0.1)[0]\n",
    "print(idx_active)"
   ]
  },
  {
   "cell_type": "code",
   "execution_count": 47,
   "metadata": {},
   "outputs": [
    {
     "data": {
      "text/plain": [
       "torch.Size([64, 64])"
      ]
     },
     "execution_count": 47,
     "metadata": {},
     "output_type": "execute_result"
    }
   ],
   "source": [
    "state_dict = torch.load(path_checkpoint, weights_only=True)\n",
    "ode_matrix = state_dict['latent_ode_func.A.weight']\n",
    "ode_matrix.shape"
   ]
  },
  {
   "cell_type": "code",
   "execution_count": 48,
   "metadata": {},
   "outputs": [
    {
     "name": "stdout",
     "output_type": "stream",
     "text": [
      "tensor([[-1.7187, -0.6246, -0.5047],\n",
      "        [ 0.5941, -0.3369,  0.1466],\n",
      "        [ 0.3699,  0.1009, -0.4091]])\n",
      "[-0.98238534+0.12505159j -0.98238534-0.12505159j -0.4999519 +0.j        ]\n",
      "finding path that contains \"code\", then going up one level to find \"LaTeX\"\n",
      "e:\\projects\\balanced_neural_odes_internal\\code\\python\\analysis\\iclr\n",
      "e:\\projects\\balanced_neural_odes_internal\\code\\python\\analysis\n",
      "e:\\projects\\balanced_neural_odes_internal\\code\\python\n",
      "e:\\projects\\balanced_neural_odes_internal\\code\n",
      "e:\\projects\\balanced_neural_odes_internal\n"
     ]
    }
   ],
   "source": [
    "ode_matrix_active = torch.zeros(idx_active.size, idx_active.size)\n",
    "for i, idx in enumerate(idx_active):\n",
    "    for j, jdx in enumerate(idx_active):\n",
    "        ode_matrix_active[i,j] = ode_matrix[idx,jdx]\n",
    "eig_vals_numeric = np.linalg.eigvals(ode_matrix_active)\n",
    "print(ode_matrix_active)\n",
    "print(eig_vals_numeric)\n",
    "# print eigvals rounded to 2 decimal places to file\n",
    "with open(get_paper_path('BNODE_Koopman_Tu', 'eigvals.tex'), 'w') as f:\n",
    "    for eig in eig_vals_numeric:\n",
    "        f.write(f'{eig:.2f}\\n')"
   ]
  },
  {
   "cell_type": "code",
   "execution_count": 49,
   "metadata": {},
   "outputs": [
    {
     "name": "stdout",
     "output_type": "stream",
     "text": [
      "[-0.5 -1.  -1. ]\n"
     ]
    }
   ],
   "source": [
    "a = -0.5\n",
    "b = -1\n",
    "eig_vals_analytic = np.array([a, b, 2*a])\n",
    "print(eig_vals_analytic)"
   ]
  },
  {
   "cell_type": "code",
   "execution_count": 67,
   "metadata": {},
   "outputs": [
    {
     "name": "stdout",
     "output_type": "stream",
     "text": [
      "finding path that contains \"code\", then going up one level to find \"LaTeX\"\n",
      "e:\\projects\\balanced_neural_odes_internal\\code\\python\\analysis\\iclr\n",
      "e:\\projects\\balanced_neural_odes_internal\\code\\python\\analysis\n",
      "e:\\projects\\balanced_neural_odes_internal\\code\\python\n",
      "e:\\projects\\balanced_neural_odes_internal\\code\n",
      "e:\\projects\\balanced_neural_odes_internal\n",
      "E:\\projects\\balanced_neural_odes_internal\\LaTeX\\ICLR 2025 Template\\figures\\BNODE_Koopman_Tu\\eigenvalues.png\n",
      "E:\\projects\\balanced_neural_odes_internal\\LaTeX\\ICLR 2025 Template\\figures\\BNODE_Koopman_Tu\\eigenvalues.svg\n"
     ]
    },
    {
     "data": {
      "image/png": "[encoded data removed]",
      "text/plain": [
       "<Figure size 183.369x100 with 1 Axes>"
      ]
     },
     "metadata": {},
     "output_type": "display_data"
    }
   ],
   "source": [
    "fig, ax = plt.subplots(1,1 , figsize=fig_size(1.0, n_figs_per_width=3), tight_layout=True)\n",
    "ax.set_prop_cycle(cb_marker_cycler)\n",
    "\n",
    "ax.plot(eig_vals_numeric.real, eig_vals_numeric.imag, label=r'\\noindent B-NODE', marker='x', markersize=5, markeredgewidth=0.5)\n",
    "ax.plot(eig_vals_analytic.real, eig_vals_analytic.imag, label='Analytic', marker='+', markersize=5, markeredgewidth=0.5)\n",
    "\n",
    "ax.grid(True)\n",
    "ax.set_xlabel(r'Re[$\\lambda$]')\n",
    "ax.set_ylabel(r'Im[$\\lambda$]')\n",
    "\n",
    "ax.set_xlim(-1.5, 0.0)\n",
    "ax.set_ylim(-1, 1)\n",
    "\n",
    "# add text with eigenvalues\n",
    "ax.text(-1.49, 0.90, f'$\\lambda$=' +r'\\{-0.5, -0.98 $\\pm$0.13j \\}', fontsize=4.5, verticalalignment='top', color='#E69F00')\n",
    "ax.text(-1.49, -0.90, f'$\\lambda$=' +r'\\{-0.5, -1.0, -1.0\\}', fontsize=4.5, verticalalignment='bottom', color='#56B4E9')\n",
    "\n",
    "# place legend right of plot\n",
    "ax.legend(loc='upper left', bbox_to_anchor=(1,1.2), fontsize=5)\n",
    "\n",
    "# add text with NRMSE and max error\n",
    "str = f'NRMSE: {NRMSE*100:.1f}\\%,\\nmax.: {max*100:.1f}\\%\\nmin-max norm\\non test set'\n",
    "ax.text(0.10, 0.0, str, fontsize=5, verticalalignment='top', color='#E69F00')\n",
    "\n",
    "savefig(fig, get_paper_path('BNODE_Koopman_Tu', 'eigenvalues'))\n"
   ]
  }
 ],
 "metadata": {
  "kernelspec": {
   "display_name": "ma_aka",
   "language": "python",
   "name": "python3"
  },
  "language_info": {
   "codemirror_mode": {
    "name": "ipython",
    "version": 3
   },
   "file_extension": ".py",
   "mimetype": "text/x-python",
   "name": "python",
   "nbconvert_exporter": "python",
   "pygments_lexer": "ipython3",
   "version": "3.9.19"
  }
 },
 "nbformat": 4,
 "nbformat_minor": 2
}
