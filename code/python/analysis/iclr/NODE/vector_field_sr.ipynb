{
 "cells": [
  {
   "cell_type": "code",
   "execution_count": 2,
   "metadata": {},
   "outputs": [],
   "source": [
    "%load_ext autoreload\n",
    "%autoreload 2\n",
    "import pandas as pd\n",
    "import numpy as np\n",
    "from pathlib import Path\n",
    "import h5py\n",
    "import os\n",
    "import sys\n",
    "\n",
    "sys.path.append(os.getcwd() + '/../..')\n",
    "sys.path.append(os.getcwd() + '/..')\n",
    "from filepaths import filepath_from_ml_artifacts_uri\n",
    "from analysis.iclr.plotting import settings, fig_size, cb_line_cycler, cb_line_cycler_solid, cb_marker_cycler, savefig\n",
    "from plot_hdf5_dataset import plot_dataset\n",
    "from iclr_paper_path import get_paper_path\n",
    "import matplotlib\n",
    "settings()\n",
    "import matplotlib.pyplot as plt"
   ]
  },
  {
   "cell_type": "code",
   "execution_count": 15,
   "metadata": {},
   "outputs": [
    {
     "name": "stdout",
     "output_type": "stream",
     "text": [
      "finding path that contains \"code\", then going up one level to find \"LaTeX\"\n",
      "e:\\projects\\balanced_neural_odes_internal\\code\\python\\analysis\\iclr\n",
      "e:\\projects\\balanced_neural_odes_internal\\code\\python\\analysis\n",
      "e:\\projects\\balanced_neural_odes_internal\\code\\python\n",
      "e:\\projects\\balanced_neural_odes_internal\\code\n",
      "e:\\projects\\balanced_neural_odes_internal\n",
      "E:\\projects\\balanced_neural_odes_internal\\LaTeX\\ICLR 2025 Template\\figures\\NODE\\vector_field.png\n",
      "E:\\projects\\balanced_neural_odes_internal\\LaTeX\\ICLR 2025 Template\\figures\\NODE\\vector_field.svg\n"
     ]
    },
    {
     "data": {
      "image/png": "[encoded data removed]",
      "text/plain": [
       "<Figure size 121x121 with 1 Axes>"
      ]
     },
     "metadata": {},
     "output_type": "display_data"
    }
   ],
   "source": [
    "def sr_ode(x):\n",
    "    # compute the right-hand side of the ODE for a RCL circuit\n",
    "    # x[0] is I\n",
    "    # x[1] is U_C\n",
    "    L = 0.1/(2*np.pi)\n",
    "    R = 0.5\n",
    "    C = 0.001/(2*np.pi)\n",
    "    I = x[0]\n",
    "    U_C = x[1]\n",
    "\n",
    "    dI = (-U_C - R*I)/L\n",
    "    d_U_C = I/C\n",
    "    return np.array([dI, d_U_C])\n",
    "\n",
    "# set font size to 8\n",
    "plt.rcParams.update({'font.size': 8})\n",
    "\n",
    "# calculate the vector field\n",
    "k = 0.5\n",
    "n = 10\n",
    "I = np.linspace(-k, k, n)\n",
    "U_C = np.linspace(-50*k, 50*k, n)\n",
    "I, U_C = np.meshgrid(I, U_C)\n",
    "dI = np.zeros_like(I)\n",
    "d_U_C = np.zeros_like(U_C)\n",
    "for i in range(n):\n",
    "    for j in range(n):\n",
    "        x = np.array([I[i, j], U_C[i, j]])\n",
    "        dx = sr_ode(x)\n",
    "        dI[i, j] = dx[0]\n",
    "        d_U_C[i, j] = dx[1]\n",
    "\n",
    "# plot the vector field\n",
    "_scale = 0.55\n",
    "fig, ax = plt.subplots(1,1, figsize=fig_size(_scale*2.2,_scale*2.2), tight_layout=True)\n",
    "ax.quiver(I, U_C, dI, d_U_C, color='black')\n",
    "# color by norm\n",
    "# norm = np.sqrt(dI**2 + d_U_C**2)\n",
    "# ax.imshow(norm, extent=[-k, k, -40*k, 40*k], origin='lower', cmap='RdBu', alpha=0.5, aspect='auto', interpolation='bilinear')\n",
    "ax.set_xlabel('I [A]')\n",
    "ax.set_ylabel('$U_C$ [V]')\n",
    "# set title\n",
    "ax.set_title(r'$x' +'\\'' + '=f(x)$')\n",
    "savefig(fig, get_paper_path('NODE', 'vector_field'))"
   ]
  }
 ],
 "metadata": {
  "kernelspec": {
   "display_name": "th_ak",
   "language": "python",
   "name": "python3"
  },
  "language_info": {
   "codemirror_mode": {
    "name": "ipython",
    "version": 3
   },
   "file_extension": ".py",
   "mimetype": "text/x-python",
   "name": "python",
   "nbconvert_exporter": "python",
   "pygments_lexer": "ipython3",
   "version": "3.9.19"
  }
 },
 "nbformat": 4,
 "nbformat_minor": 2
}
